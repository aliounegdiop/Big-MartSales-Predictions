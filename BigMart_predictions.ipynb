{
  "nbformat": 4,
  "nbformat_minor": 0,
  "metadata": {
    "colab": {
      "name": "BigMart_predictions.ipynb",
      "provenance": [],
      "collapsed_sections": []
    },
    "kernelspec": {
      "name": "python3",
      "display_name": "Python 3.6",
      "language": "python"
    },
    "language_info": {
      "name": "python",
      "version": "3.6.9",
      "mimetype": "text/x-python",
      "codemirror_mode": {
        "name": "ipython",
        "version": 3
      },
      "pygments_lexer": "ipython3",
      "nbconvert_exporter": "python",
      "file_extension": ".py"
    }
  },
  "cells": [
    {
      "cell_type": "code",
      "metadata": {
        "id": "Vn-NJz9-Wq_O",
        "colab_type": "code",
        "colab": {
          "base_uri": "https://localhost:8080/",
          "height": 34
        },
        "outputId": "326727c4-2260-4500-c177-0bb14c9e6f14"
      },
      "source": [
        "import pandas as pd\n",
        "import numpy as np\n",
        "import sklearn\n",
        "from sklearn.metrics import mean_squared_error,mean_squared_error,r2_score\n",
        "from sklearn.model_selection import train_test_split\n",
        "import matplotlib.pyplot as plt\n",
        "import keras\n",
        "import tensorflow as tf\n",
        "from keras.models import Sequential\n",
        "from keras.optimizers import SGD\n",
        "from keras.layers import InputLayer, Dense \n",
        "%matplotlib inline"
      ],
      "execution_count": 1,
      "outputs": [
        {
          "output_type": "stream",
          "text": [
            "Using TensorFlow backend.\n"
          ],
          "name": "stderr"
        }
      ]
    },
    {
      "cell_type": "code",
      "metadata": {
        "id": "TvNSGo6pAPnu",
        "colab_type": "code",
        "colab": {
          "resources": {
            "http://localhost:8080/nbextensions/google.colab/files.js": {
              "data": "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",
              "ok": true,
              "headers": [
                [
                  "content-type",
                  "application/javascript"
                ]
              ],
              "status": 200,
              "status_text": ""
            }
          },
          "base_uri": "https://localhost:8080/",
          "height": 106
        },
        "outputId": "72fce050-155c-46cc-92d3-cf2280acee2a"
      },
      "source": [
        "from google.colab import files\n",
        "uploaded = files.upload()\n"
      ],
      "execution_count": 2,
      "outputs": [
        {
          "output_type": "display_data",
          "data": {
            "text/html": [
              "\n",
              "     <input type=\"file\" id=\"files-e6edce75-3bb9-4e94-af68-dfdacc31acbb\" name=\"files[]\" multiple disabled\n",
              "        style=\"border:none\" />\n",
              "     <output id=\"result-e6edce75-3bb9-4e94-af68-dfdacc31acbb\">\n",
              "      Upload widget is only available when the cell has been executed in the\n",
              "      current browser session. Please rerun this cell to enable.\n",
              "      </output>\n",
              "      <script src=\"/nbextensions/google.colab/files.js\"></script> "
            ],
            "text/plain": [
              "<IPython.core.display.HTML object>"
            ]
          },
          "metadata": {
            "tags": []
          }
        },
        {
          "output_type": "stream",
          "text": [
            "Saving Test.csv to Test.csv\n",
            "Saving Train.csv to Train.csv\n"
          ],
          "name": "stdout"
        }
      ]
    },
    {
      "cell_type": "code",
      "metadata": {
        "id": "NeR5nC8nDgOk",
        "colab_type": "code",
        "colab": {}
      },
      "source": [
        "import io\n",
        "train = pd.read_csv(io.BytesIO(uploaded['Train.csv']))"
      ],
      "execution_count": 7,
      "outputs": []
    },
    {
      "cell_type": "code",
      "metadata": {
        "id": "JuE0QNlxED3g",
        "colab_type": "code",
        "colab": {}
      },
      "source": [
        ""
      ],
      "execution_count": 3,
      "outputs": []
    },
    {
      "cell_type": "code",
      "metadata": {
        "colab_type": "code",
        "id": "h7i0pGYfEFKh",
        "colab": {}
      },
      "source": [
        "test = pd.read_csv(io.BytesIO(uploaded['Test.csv']))"
      ],
      "execution_count": 8,
      "outputs": []
    },
    {
      "cell_type": "code",
      "metadata": {
        "id": "z_XdiBQEMsnM",
        "colab_type": "code",
        "colab": {
          "base_uri": "https://localhost:8080/",
          "height": 221
        },
        "outputId": "ed44ee39-1afe-46e1-efbe-34455cf9a0bd"
      },
      "source": [
        "test.isnull().sum()"
      ],
      "execution_count": 9,
      "outputs": [
        {
          "output_type": "execute_result",
          "data": {
            "text/plain": [
              "Item_Identifier                 0\n",
              "Item_Weight                   976\n",
              "Item_Fat_Content                0\n",
              "Item_Visibility                 0\n",
              "Item_Type                       0\n",
              "Item_MRP                        0\n",
              "Outlet_Identifier               0\n",
              "Outlet_Establishment_Year       0\n",
              "Outlet_Size                  1606\n",
              "Outlet_Location_Type            0\n",
              "Outlet_Type                     0\n",
              "dtype: int64"
            ]
          },
          "metadata": {
            "tags": []
          },
          "execution_count": 9
        }
      ]
    },
    {
      "cell_type": "code",
      "metadata": {
        "id": "fUy6bMU6u_1G",
        "colab_type": "code",
        "colab": {}
      },
      "source": [
        "liste={'LF':'Low Fat','low fat':'Low Fat','reg':'Regular'}\n",
        "\n",
        "train['Item_Fat_Content']=train['Item_Fat_Content'].replace({'LF':'Low Fat',\n",
        "                                                             'reg':'Regular',\n",
        "                                                             'low fat':'Low Fat'})\n",
        "\n",
        "test['Item_Fat_Content']=test['Item_Fat_Content'].replace({'LF':'Low Fat',\n",
        "                                                             'reg':'Regular',\n",
        "                                                             'low fat':'Low Fat'})"
      ],
      "execution_count": 10,
      "outputs": []
    },
    {
      "cell_type": "code",
      "metadata": {
        "id": "sJCqw1qgZIWw",
        "colab_type": "code",
        "colab": {
          "base_uri": "https://localhost:8080/",
          "height": 309
        },
        "outputId": "45b55a46-254f-46d8-8d6d-30b599e949f1"
      },
      "source": [
        "train.head()"
      ],
      "execution_count": 11,
      "outputs": [
        {
          "output_type": "execute_result",
          "data": {
            "text/html": [
              "<div>\n",
              "<style scoped>\n",
              "    .dataframe tbody tr th:only-of-type {\n",
              "        vertical-align: middle;\n",
              "    }\n",
              "\n",
              "    .dataframe tbody tr th {\n",
              "        vertical-align: top;\n",
              "    }\n",
              "\n",
              "    .dataframe thead th {\n",
              "        text-align: right;\n",
              "    }\n",
              "</style>\n",
              "<table border=\"1\" class=\"dataframe\">\n",
              "  <thead>\n",
              "    <tr style=\"text-align: right;\">\n",
              "      <th></th>\n",
              "      <th>Item_Identifier</th>\n",
              "      <th>Item_Weight</th>\n",
              "      <th>Item_Fat_Content</th>\n",
              "      <th>Item_Visibility</th>\n",
              "      <th>Item_Type</th>\n",
              "      <th>Item_MRP</th>\n",
              "      <th>Outlet_Identifier</th>\n",
              "      <th>Outlet_Establishment_Year</th>\n",
              "      <th>Outlet_Size</th>\n",
              "      <th>Outlet_Location_Type</th>\n",
              "      <th>Outlet_Type</th>\n",
              "      <th>Item_Outlet_Sales</th>\n",
              "    </tr>\n",
              "  </thead>\n",
              "  <tbody>\n",
              "    <tr>\n",
              "      <th>0</th>\n",
              "      <td>FDA15</td>\n",
              "      <td>9.30</td>\n",
              "      <td>Low Fat</td>\n",
              "      <td>0.016047</td>\n",
              "      <td>Dairy</td>\n",
              "      <td>249.8092</td>\n",
              "      <td>OUT049</td>\n",
              "      <td>1999</td>\n",
              "      <td>Medium</td>\n",
              "      <td>Tier 1</td>\n",
              "      <td>Supermarket Type1</td>\n",
              "      <td>3735.1380</td>\n",
              "    </tr>\n",
              "    <tr>\n",
              "      <th>1</th>\n",
              "      <td>DRC01</td>\n",
              "      <td>5.92</td>\n",
              "      <td>Regular</td>\n",
              "      <td>0.019278</td>\n",
              "      <td>Soft Drinks</td>\n",
              "      <td>48.2692</td>\n",
              "      <td>OUT018</td>\n",
              "      <td>2009</td>\n",
              "      <td>Medium</td>\n",
              "      <td>Tier 3</td>\n",
              "      <td>Supermarket Type2</td>\n",
              "      <td>443.4228</td>\n",
              "    </tr>\n",
              "    <tr>\n",
              "      <th>2</th>\n",
              "      <td>FDN15</td>\n",
              "      <td>17.50</td>\n",
              "      <td>Low Fat</td>\n",
              "      <td>0.016760</td>\n",
              "      <td>Meat</td>\n",
              "      <td>141.6180</td>\n",
              "      <td>OUT049</td>\n",
              "      <td>1999</td>\n",
              "      <td>Medium</td>\n",
              "      <td>Tier 1</td>\n",
              "      <td>Supermarket Type1</td>\n",
              "      <td>2097.2700</td>\n",
              "    </tr>\n",
              "    <tr>\n",
              "      <th>3</th>\n",
              "      <td>FDX07</td>\n",
              "      <td>19.20</td>\n",
              "      <td>Regular</td>\n",
              "      <td>0.000000</td>\n",
              "      <td>Fruits and Vegetables</td>\n",
              "      <td>182.0950</td>\n",
              "      <td>OUT010</td>\n",
              "      <td>1998</td>\n",
              "      <td>NaN</td>\n",
              "      <td>Tier 3</td>\n",
              "      <td>Grocery Store</td>\n",
              "      <td>732.3800</td>\n",
              "    </tr>\n",
              "    <tr>\n",
              "      <th>4</th>\n",
              "      <td>NCD19</td>\n",
              "      <td>8.93</td>\n",
              "      <td>Low Fat</td>\n",
              "      <td>0.000000</td>\n",
              "      <td>Household</td>\n",
              "      <td>53.8614</td>\n",
              "      <td>OUT013</td>\n",
              "      <td>1987</td>\n",
              "      <td>High</td>\n",
              "      <td>Tier 3</td>\n",
              "      <td>Supermarket Type1</td>\n",
              "      <td>994.7052</td>\n",
              "    </tr>\n",
              "  </tbody>\n",
              "</table>\n",
              "</div>"
            ],
            "text/plain": [
              "  Item_Identifier  Item_Weight  ...        Outlet_Type  Item_Outlet_Sales\n",
              "0           FDA15         9.30  ...  Supermarket Type1          3735.1380\n",
              "1           DRC01         5.92  ...  Supermarket Type2           443.4228\n",
              "2           FDN15        17.50  ...  Supermarket Type1          2097.2700\n",
              "3           FDX07        19.20  ...      Grocery Store           732.3800\n",
              "4           NCD19         8.93  ...  Supermarket Type1           994.7052\n",
              "\n",
              "[5 rows x 12 columns]"
            ]
          },
          "metadata": {
            "tags": []
          },
          "execution_count": 11
        }
      ]
    },
    {
      "cell_type": "code",
      "metadata": {
        "id": "q2-FjR3t-Kn-",
        "colab_type": "code",
        "colab": {
          "base_uri": "https://localhost:8080/",
          "height": 85
        },
        "outputId": "8c4136af-e298-47b7-b643-2d89bfcd703f"
      },
      "source": [
        "train.Outlet_Size.value_counts()"
      ],
      "execution_count": 12,
      "outputs": [
        {
          "output_type": "execute_result",
          "data": {
            "text/plain": [
              "Medium    2793\n",
              "Small     2388\n",
              "High       932\n",
              "Name: Outlet_Size, dtype: int64"
            ]
          },
          "metadata": {
            "tags": []
          },
          "execution_count": 12
        }
      ]
    },
    {
      "cell_type": "code",
      "metadata": {
        "id": "P5sQ2aEnCCOs",
        "colab_type": "code",
        "colab": {
          "base_uri": "https://localhost:8080/",
          "height": 351
        },
        "outputId": "0d57478e-764a-4029-9fc6-9c830a10342b"
      },
      "source": [
        "#Plotting the sales and the Outlet size\n",
        "import seaborn as sns\n",
        "sns.boxplot('Item_Outlet_Sales','Outlet_Size',data=train)"
      ],
      "execution_count": 13,
      "outputs": [
        {
          "output_type": "stream",
          "text": [
            "/usr/local/lib/python3.6/dist-packages/statsmodels/tools/_testing.py:19: FutureWarning: pandas.util.testing is deprecated. Use the functions in the public API at pandas.testing instead.\n",
            "  import pandas.util.testing as tm\n"
          ],
          "name": "stderr"
        },
        {
          "output_type": "execute_result",
          "data": {
            "text/plain": [
              "<matplotlib.axes._subplots.AxesSubplot at 0x7f378d46d8d0>"
            ]
          },
          "metadata": {
            "tags": []
          },
          "execution_count": 13
        },
        {
          "output_type": "display_data",
          "data": {
            "image/png": "[encoded data removed]",
            "text/plain": [
              "<Figure size 432x288 with 1 Axes>"
            ]
          },
          "metadata": {
            "tags": [],
            "needs_background": "light"
          }
        }
      ]
    },
    {
      "cell_type": "code",
      "metadata": {
        "id": "ZDIx266Y4ngT",
        "colab_type": "code",
        "colab": {
          "base_uri": "https://localhost:8080/",
          "height": 337
        },
        "outputId": "e85f6715-0f3d-4d71-92af-88844737f67c"
      },
      "source": [
        "#Plotting the different type of outlets\n",
        "sns.catplot('Outlet_Type',kind = 'count',data = train,aspect =4)"
      ],
      "execution_count": 14,
      "outputs": [
        {
          "output_type": "execute_result",
          "data": {
            "text/plain": [
              "<seaborn.axisgrid.FacetGrid at 0x7f378d3b07f0>"
            ]
          },
          "metadata": {
            "tags": []
          },
          "execution_count": 14
        },
        {
          "output_type": "display_data",
          "data": {
            "image/png": "[encoded data removed]",
            "text/plain": [
              "<Figure size 1440x360 with 1 Axes>"
            ]
          },
          "metadata": {
            "tags": [],
            "needs_background": "light"
          }
        }
      ]
    },
    {
      "cell_type": "code",
      "metadata": {
        "id": "ksAlSwBQFGEl",
        "colab_type": "code",
        "colab": {}
      },
      "source": [
        "#Supermarket Type1 has the higher volume of sales"
      ],
      "execution_count": 15,
      "outputs": []
    },
    {
      "cell_type": "code",
      "metadata": {
        "id": "MEkY1qImFRSj",
        "colab_type": "code",
        "colab": {
          "base_uri": "https://localhost:8080/",
          "height": 337
        },
        "outputId": "cbe9de2b-74b0-49e8-a98e-cfb6b47453c5"
      },
      "source": [
        "sns.catplot('Outlet_Establishment_Year',kind = 'count',data = train,aspect =4)"
      ],
      "execution_count": 16,
      "outputs": [
        {
          "output_type": "execute_result",
          "data": {
            "text/plain": [
              "<seaborn.axisgrid.FacetGrid at 0x7f378a6a9c88>"
            ]
          },
          "metadata": {
            "tags": []
          },
          "execution_count": 16
        },
        {
          "output_type": "display_data",
          "data": {
            "image/png": "[encoded data removed]",
            "text/plain": [
              "<Figure size 1440x360 with 1 Axes>"
            ]
          },
          "metadata": {
            "tags": [],
            "needs_background": "light"
          }
        }
      ]
    },
    {
      "cell_type": "code",
      "metadata": {
        "id": "284RSTInFXA_",
        "colab_type": "code",
        "colab": {}
      },
      "source": [
        "#Year1985 has the highest sales volumes"
      ],
      "execution_count": 17,
      "outputs": []
    },
    {
      "cell_type": "code",
      "metadata": {
        "id": "AZOJ3_TKACv4",
        "colab_type": "code",
        "colab": {
          "base_uri": "https://localhost:8080/",
          "height": 319
        },
        "outputId": "3c20bcce-6155-4236-bdcc-0046a8295698"
      },
      "source": [
        "#Boxplot of Item Fat content\n",
        "train.boxplot(column='Item_Outlet_Sales',by='Item_Fat_Content')"
      ],
      "execution_count": 18,
      "outputs": [
        {
          "output_type": "execute_result",
          "data": {
            "text/plain": [
              "<matplotlib.axes._subplots.AxesSubplot at 0x7f378a658198>"
            ]
          },
          "metadata": {
            "tags": []
          },
          "execution_count": 18
        },
        {
          "output_type": "display_data",
          "data": {
            "image/png": "[encoded data removed]",
            "text/plain": [
              "<Figure size 432x288 with 1 Axes>"
            ]
          },
          "metadata": {
            "tags": [],
            "needs_background": "light"
          }
        }
      ]
    },
    {
      "cell_type": "code",
      "metadata": {
        "id": "_EiEIDB5ALeo",
        "colab_type": "code",
        "colab": {
          "base_uri": "https://localhost:8080/",
          "height": 297
        },
        "outputId": "8c9ed33e-f842-4937-bf53-7874a8231ea8"
      },
      "source": [
        "sns.boxplot('Item_Outlet_Sales','Item_Fat_Content',data=train)"
      ],
      "execution_count": 19,
      "outputs": [
        {
          "output_type": "execute_result",
          "data": {
            "text/plain": [
              "<matplotlib.axes._subplots.AxesSubplot at 0x7f378a560940>"
            ]
          },
          "metadata": {
            "tags": []
          },
          "execution_count": 19
        },
        {
          "output_type": "display_data",
          "data": {
            "image/png": "[encoded data removed]",
            "text/plain": [
              "<Figure size 432x288 with 1 Axes>"
            ]
          },
          "metadata": {
            "tags": [],
            "needs_background": "light"
          }
        }
      ]
    },
    {
      "cell_type": "code",
      "metadata": {
        "id": "KIrAneK5F1NB",
        "colab_type": "code",
        "colab": {
          "base_uri": "https://localhost:8080/",
          "height": 340
        },
        "outputId": "583dc7eb-75a3-4be8-948b-ed36abae1fde"
      },
      "source": [
        "#Plotting some Categorical variable with the target variable\n",
        "sns.catplot(x = 'Item_Type',y = 'Item_Outlet_Sales',kind = 'violin',data = train,aspect=4)"
      ],
      "execution_count": 20,
      "outputs": [
        {
          "output_type": "execute_result",
          "data": {
            "text/plain": [
              "<seaborn.axisgrid.FacetGrid at 0x7f378a4b9048>"
            ]
          },
          "metadata": {
            "tags": []
          },
          "execution_count": 20
        },
        {
          "output_type": "display_data",
          "data": {
            "image/png": "[encoded data removed]",
            "text/plain": [
              "<Figure size 1440x360 with 1 Axes>"
            ]
          },
          "metadata": {
            "tags": [],
            "needs_background": "light"
          }
        }
      ]
    },
    {
      "cell_type": "code",
      "metadata": {
        "id": "DWm7CqLLGJp3",
        "colab_type": "code",
        "colab": {
          "base_uri": "https://localhost:8080/",
          "height": 386
        },
        "outputId": "749b3821-599d-4478-f1eb-366f2c2d0005"
      },
      "source": [
        "sns.catplot(x = 'Item_Fat_Content',y = 'Item_Outlet_Sales',data = train)"
      ],
      "execution_count": 21,
      "outputs": [
        {
          "output_type": "execute_result",
          "data": {
            "text/plain": [
              "<seaborn.axisgrid.FacetGrid at 0x7f378a4b90f0>"
            ]
          },
          "metadata": {
            "tags": []
          },
          "execution_count": 21
        },
        {
          "output_type": "display_data",
          "data": {
            "image/png": "[encoded data removed]",
            "text/plain": [
              "<Figure size 360x360 with 1 Axes>"
            ]
          },
          "metadata": {
            "tags": [],
            "needs_background": "light"
          }
        }
      ]
    },
    {
      "cell_type": "code",
      "metadata": {
        "id": "7UXZ09OfGwTb",
        "colab_type": "code",
        "colab": {
          "base_uri": "https://localhost:8080/",
          "height": 282
        },
        "outputId": "a92a6428-a580-40b1-a8fd-96c4c6f232bf"
      },
      "source": [
        "#checking Item_visibility \n",
        "train['Item_Visibility'].plot(kind = 'hist',bins = 100)"
      ],
      "execution_count": 22,
      "outputs": [
        {
          "output_type": "execute_result",
          "data": {
            "text/plain": [
              "<matplotlib.axes._subplots.AxesSubplot at 0x7f378a5a3e80>"
            ]
          },
          "metadata": {
            "tags": []
          },
          "execution_count": 22
        },
        {
          "output_type": "display_data",
          "data": {
            "image/png": "[encoded data removed]",
            "text/plain": [
              "<Figure size 432x288 with 1 Axes>"
            ]
          },
          "metadata": {
            "tags": [],
            "needs_background": "light"
          }
        }
      ]
    },
    {
      "cell_type": "code",
      "metadata": {
        "id": "c4Gbg-HNG1Ta",
        "colab_type": "code",
        "colab": {
          "base_uri": "https://localhost:8080/",
          "height": 34
        },
        "outputId": "862558c1-a1fc-4517-9bdd-00a3bf30b50f"
      },
      "source": [
        "#Treatment of Items with 0 visility\n",
        "me=train[train['Item_Visibility']!=0]['Item_Visibility'].mean()\n",
        "print(me)\n",
        "train['Item_Visibility']=train['Item_Visibility'].replace(0.000000,me)\n",
        "\n",
        "mtest=test[test['Item_Visibility']!=0]['Item_Visibility'].mean()\n",
        "test['Item_Visibility']=test['Item_Visibility'].replace(0.000000,mtest)"
      ],
      "execution_count": 23,
      "outputs": [
        {
          "output_type": "stream",
          "text": [
            "0.07048184085069421\n"
          ],
          "name": "stdout"
        }
      ]
    },
    {
      "cell_type": "code",
      "metadata": {
        "id": "K0zI0HmOHxXc",
        "colab_type": "code",
        "colab": {
          "base_uri": "https://localhost:8080/",
          "height": 282
        },
        "outputId": "f2f343ef-50b1-4cc4-d552-827fb9a1c374"
      },
      "source": [
        "train['Item_Visibility'].plot(kind = 'hist',bins = 100)"
      ],
      "execution_count": 24,
      "outputs": [
        {
          "output_type": "execute_result",
          "data": {
            "text/plain": [
              "<matplotlib.axes._subplots.AxesSubplot at 0x7f37889ef0f0>"
            ]
          },
          "metadata": {
            "tags": []
          },
          "execution_count": 24
        },
        {
          "output_type": "display_data",
          "data": {
            "image/png": "[encoded data removed]",
            "text/plain": [
              "<Figure size 432x288 with 1 Axes>"
            ]
          },
          "metadata": {
            "tags": [],
            "needs_background": "light"
          }
        }
      ]
    },
    {
      "cell_type": "code",
      "metadata": {
        "id": "_bsy6Bh4Z5Ag",
        "colab_type": "code",
        "colab": {}
      },
      "source": [
        "#Checking for missing values"
      ],
      "execution_count": 25,
      "outputs": []
    },
    {
      "cell_type": "code",
      "metadata": {
        "id": "dyRyoEZiXzQv",
        "colab_type": "code",
        "colab": {
          "base_uri": "https://localhost:8080/",
          "height": 238
        },
        "outputId": "1d20020f-2e51-4235-f559-0ebc624e4285"
      },
      "source": [
        "train.isnull().sum()"
      ],
      "execution_count": 26,
      "outputs": [
        {
          "output_type": "execute_result",
          "data": {
            "text/plain": [
              "Item_Identifier                 0\n",
              "Item_Weight                  1463\n",
              "Item_Fat_Content                0\n",
              "Item_Visibility                 0\n",
              "Item_Type                       0\n",
              "Item_MRP                        0\n",
              "Outlet_Identifier               0\n",
              "Outlet_Establishment_Year       0\n",
              "Outlet_Size                  2410\n",
              "Outlet_Location_Type            0\n",
              "Outlet_Type                     0\n",
              "Item_Outlet_Sales               0\n",
              "dtype: int64"
            ]
          },
          "metadata": {
            "tags": []
          },
          "execution_count": 26
        }
      ]
    },
    {
      "cell_type": "code",
      "metadata": {
        "id": "DTwWvej_Z2s_",
        "colab_type": "code",
        "colab": {}
      },
      "source": [
        "#imputing missing values"
      ],
      "execution_count": 27,
      "outputs": []
    },
    {
      "cell_type": "code",
      "metadata": {
        "id": "vTDLJbZgbjjd",
        "colab_type": "code",
        "colab": {
          "base_uri": "https://localhost:8080/",
          "height": 297
        },
        "outputId": "1f84b6ba-4419-4a67-87cf-54cdca561465"
      },
      "source": [
        "train.describe()"
      ],
      "execution_count": 28,
      "outputs": [
        {
          "output_type": "execute_result",
          "data": {
            "text/html": [
              "<div>\n",
              "<style scoped>\n",
              "    .dataframe tbody tr th:only-of-type {\n",
              "        vertical-align: middle;\n",
              "    }\n",
              "\n",
              "    .dataframe tbody tr th {\n",
              "        vertical-align: top;\n",
              "    }\n",
              "\n",
              "    .dataframe thead th {\n",
              "        text-align: right;\n",
              "    }\n",
              "</style>\n",
              "<table border=\"1\" class=\"dataframe\">\n",
              "  <thead>\n",
              "    <tr style=\"text-align: right;\">\n",
              "      <th></th>\n",
              "      <th>Item_Weight</th>\n",
              "      <th>Item_Visibility</th>\n",
              "      <th>Item_MRP</th>\n",
              "      <th>Outlet_Establishment_Year</th>\n",
              "      <th>Item_Outlet_Sales</th>\n",
              "    </tr>\n",
              "  </thead>\n",
              "  <tbody>\n",
              "    <tr>\n",
              "      <th>count</th>\n",
              "      <td>7060.000000</td>\n",
              "      <td>8523.000000</td>\n",
              "      <td>8523.000000</td>\n",
              "      <td>8523.000000</td>\n",
              "      <td>8523.000000</td>\n",
              "    </tr>\n",
              "    <tr>\n",
              "      <th>mean</th>\n",
              "      <td>12.857645</td>\n",
              "      <td>0.070482</td>\n",
              "      <td>140.992782</td>\n",
              "      <td>1997.831867</td>\n",
              "      <td>2181.288914</td>\n",
              "    </tr>\n",
              "    <tr>\n",
              "      <th>std</th>\n",
              "      <td>4.643456</td>\n",
              "      <td>0.048730</td>\n",
              "      <td>62.275067</td>\n",
              "      <td>8.371760</td>\n",
              "      <td>1706.499616</td>\n",
              "    </tr>\n",
              "    <tr>\n",
              "      <th>min</th>\n",
              "      <td>4.555000</td>\n",
              "      <td>0.003575</td>\n",
              "      <td>31.290000</td>\n",
              "      <td>1985.000000</td>\n",
              "      <td>33.290000</td>\n",
              "    </tr>\n",
              "    <tr>\n",
              "      <th>25%</th>\n",
              "      <td>8.773750</td>\n",
              "      <td>0.033085</td>\n",
              "      <td>93.826500</td>\n",
              "      <td>1987.000000</td>\n",
              "      <td>834.247400</td>\n",
              "    </tr>\n",
              "    <tr>\n",
              "      <th>50%</th>\n",
              "      <td>12.600000</td>\n",
              "      <td>0.062517</td>\n",
              "      <td>143.012800</td>\n",
              "      <td>1999.000000</td>\n",
              "      <td>1794.331000</td>\n",
              "    </tr>\n",
              "    <tr>\n",
              "      <th>75%</th>\n",
              "      <td>16.850000</td>\n",
              "      <td>0.094585</td>\n",
              "      <td>185.643700</td>\n",
              "      <td>2004.000000</td>\n",
              "      <td>3101.296400</td>\n",
              "    </tr>\n",
              "    <tr>\n",
              "      <th>max</th>\n",
              "      <td>21.350000</td>\n",
              "      <td>0.328391</td>\n",
              "      <td>266.888400</td>\n",
              "      <td>2009.000000</td>\n",
              "      <td>13086.964800</td>\n",
              "    </tr>\n",
              "  </tbody>\n",
              "</table>\n",
              "</div>"
            ],
            "text/plain": [
              "       Item_Weight  ...  Item_Outlet_Sales\n",
              "count  7060.000000  ...        8523.000000\n",
              "mean     12.857645  ...        2181.288914\n",
              "std       4.643456  ...        1706.499616\n",
              "min       4.555000  ...          33.290000\n",
              "25%       8.773750  ...         834.247400\n",
              "50%      12.600000  ...        1794.331000\n",
              "75%      16.850000  ...        3101.296400\n",
              "max      21.350000  ...       13086.964800\n",
              "\n",
              "[8 rows x 5 columns]"
            ]
          },
          "metadata": {
            "tags": []
          },
          "execution_count": 28
        }
      ]
    },
    {
      "cell_type": "code",
      "metadata": {
        "id": "LVaa_6_aZ2mB",
        "colab_type": "code",
        "colab": {}
      },
      "source": [
        "train['Outlet_Size']=train['Outlet_Size'].fillna('Medium')\n",
        "test['Outlet_Size']=test['Outlet_Size'].fillna('Medium')"
      ],
      "execution_count": 29,
      "outputs": []
    },
    {
      "cell_type": "code",
      "metadata": {
        "id": "FIKESCPye4Qo",
        "colab_type": "code",
        "colab": {}
      },
      "source": [
        "train['Item_Weight']=train['Item_Weight'].fillna(train.Item_Weight.mean())\n",
        "test['Item_Weight']=test['Item_Weight'].fillna(test.Item_Weight.mean())"
      ],
      "execution_count": 30,
      "outputs": []
    },
    {
      "cell_type": "code",
      "metadata": {
        "id": "WN6cEqTeZ2gU",
        "colab_type": "code",
        "colab": {
          "base_uri": "https://localhost:8080/",
          "height": 238
        },
        "outputId": "1731fc39-f2b4-4191-9b05-f7807c15483c"
      },
      "source": [
        "train.isnull().sum()"
      ],
      "execution_count": 31,
      "outputs": [
        {
          "output_type": "execute_result",
          "data": {
            "text/plain": [
              "Item_Identifier              0\n",
              "Item_Weight                  0\n",
              "Item_Fat_Content             0\n",
              "Item_Visibility              0\n",
              "Item_Type                    0\n",
              "Item_MRP                     0\n",
              "Outlet_Identifier            0\n",
              "Outlet_Establishment_Year    0\n",
              "Outlet_Size                  0\n",
              "Outlet_Location_Type         0\n",
              "Outlet_Type                  0\n",
              "Item_Outlet_Sales            0\n",
              "dtype: int64"
            ]
          },
          "metadata": {
            "tags": []
          },
          "execution_count": 31
        }
      ]
    },
    {
      "cell_type": "code",
      "metadata": {
        "id": "0TZYXC5ZNT7u",
        "colab_type": "code",
        "colab": {}
      },
      "source": [
        "Item_Identifier= test['Item_Identifier']\n",
        "Outlet_Identifier=test['Outlet_Identifier']\n"
      ],
      "execution_count": 32,
      "outputs": []
    },
    {
      "cell_type": "code",
      "metadata": {
        "id": "r5cv6sgdZ2aC",
        "colab_type": "code",
        "colab": {}
      },
      "source": [
        "#Creating categories for the Item type\n",
        "train['Item_new'] = train['Item_Identifier'].apply(lambda x: x[0:2])\n",
        "train['Item_new'] = train['Item_new'].map({'FD':'Food','NC':'Goods','DR':'Drinks'})\n",
        "train['Item_new'].value_counts()\n",
        "\n",
        "test['Item_new'] = test['Item_Identifier'].apply(lambda x: x[0:2])\n",
        "test['Item_new'] = test['Item_new'].map({'FD':'Food','NC':'Goods','DR':'Drinks'})"
      ],
      "execution_count": 33,
      "outputs": []
    },
    {
      "cell_type": "code",
      "metadata": {
        "id": "SCT9p5GLPSh1",
        "colab_type": "code",
        "colab": {
          "base_uri": "https://localhost:8080/",
          "height": 309
        },
        "outputId": "148b7cad-53e0-467d-ccdc-796d9399f76b"
      },
      "source": [
        "train.head()"
      ],
      "execution_count": 34,
      "outputs": [
        {
          "output_type": "execute_result",
          "data": {
            "text/html": [
              "<div>\n",
              "<style scoped>\n",
              "    .dataframe tbody tr th:only-of-type {\n",
              "        vertical-align: middle;\n",
              "    }\n",
              "\n",
              "    .dataframe tbody tr th {\n",
              "        vertical-align: top;\n",
              "    }\n",
              "\n",
              "    .dataframe thead th {\n",
              "        text-align: right;\n",
              "    }\n",
              "</style>\n",
              "<table border=\"1\" class=\"dataframe\">\n",
              "  <thead>\n",
              "    <tr style=\"text-align: right;\">\n",
              "      <th></th>\n",
              "      <th>Item_Identifier</th>\n",
              "      <th>Item_Weight</th>\n",
              "      <th>Item_Fat_Content</th>\n",
              "      <th>Item_Visibility</th>\n",
              "      <th>Item_Type</th>\n",
              "      <th>Item_MRP</th>\n",
              "      <th>Outlet_Identifier</th>\n",
              "      <th>Outlet_Establishment_Year</th>\n",
              "      <th>Outlet_Size</th>\n",
              "      <th>Outlet_Location_Type</th>\n",
              "      <th>Outlet_Type</th>\n",
              "      <th>Item_Outlet_Sales</th>\n",
              "      <th>Item_new</th>\n",
              "    </tr>\n",
              "  </thead>\n",
              "  <tbody>\n",
              "    <tr>\n",
              "      <th>0</th>\n",
              "      <td>FDA15</td>\n",
              "      <td>9.30</td>\n",
              "      <td>Low Fat</td>\n",
              "      <td>0.016047</td>\n",
              "      <td>Dairy</td>\n",
              "      <td>249.8092</td>\n",
              "      <td>OUT049</td>\n",
              "      <td>1999</td>\n",
              "      <td>Medium</td>\n",
              "      <td>Tier 1</td>\n",
              "      <td>Supermarket Type1</td>\n",
              "      <td>3735.1380</td>\n",
              "      <td>Food</td>\n",
              "    </tr>\n",
              "    <tr>\n",
              "      <th>1</th>\n",
              "      <td>DRC01</td>\n",
              "      <td>5.92</td>\n",
              "      <td>Regular</td>\n",
              "      <td>0.019278</td>\n",
              "      <td>Soft Drinks</td>\n",
              "      <td>48.2692</td>\n",
              "      <td>OUT018</td>\n",
              "      <td>2009</td>\n",
              "      <td>Medium</td>\n",
              "      <td>Tier 3</td>\n",
              "      <td>Supermarket Type2</td>\n",
              "      <td>443.4228</td>\n",
              "      <td>Drinks</td>\n",
              "    </tr>\n",
              "    <tr>\n",
              "      <th>2</th>\n",
              "      <td>FDN15</td>\n",
              "      <td>17.50</td>\n",
              "      <td>Low Fat</td>\n",
              "      <td>0.016760</td>\n",
              "      <td>Meat</td>\n",
              "      <td>141.6180</td>\n",
              "      <td>OUT049</td>\n",
              "      <td>1999</td>\n",
              "      <td>Medium</td>\n",
              "      <td>Tier 1</td>\n",
              "      <td>Supermarket Type1</td>\n",
              "      <td>2097.2700</td>\n",
              "      <td>Food</td>\n",
              "    </tr>\n",
              "    <tr>\n",
              "      <th>3</th>\n",
              "      <td>FDX07</td>\n",
              "      <td>19.20</td>\n",
              "      <td>Regular</td>\n",
              "      <td>0.070482</td>\n",
              "      <td>Fruits and Vegetables</td>\n",
              "      <td>182.0950</td>\n",
              "      <td>OUT010</td>\n",
              "      <td>1998</td>\n",
              "      <td>Medium</td>\n",
              "      <td>Tier 3</td>\n",
              "      <td>Grocery Store</td>\n",
              "      <td>732.3800</td>\n",
              "      <td>Food</td>\n",
              "    </tr>\n",
              "    <tr>\n",
              "      <th>4</th>\n",
              "      <td>NCD19</td>\n",
              "      <td>8.93</td>\n",
              "      <td>Low Fat</td>\n",
              "      <td>0.070482</td>\n",
              "      <td>Household</td>\n",
              "      <td>53.8614</td>\n",
              "      <td>OUT013</td>\n",
              "      <td>1987</td>\n",
              "      <td>High</td>\n",
              "      <td>Tier 3</td>\n",
              "      <td>Supermarket Type1</td>\n",
              "      <td>994.7052</td>\n",
              "      <td>Goods</td>\n",
              "    </tr>\n",
              "  </tbody>\n",
              "</table>\n",
              "</div>"
            ],
            "text/plain": [
              "  Item_Identifier  Item_Weight  ... Item_Outlet_Sales  Item_new\n",
              "0           FDA15         9.30  ...         3735.1380      Food\n",
              "1           DRC01         5.92  ...          443.4228    Drinks\n",
              "2           FDN15        17.50  ...         2097.2700      Food\n",
              "3           FDX07        19.20  ...          732.3800      Food\n",
              "4           NCD19         8.93  ...          994.7052     Goods\n",
              "\n",
              "[5 rows x 13 columns]"
            ]
          },
          "metadata": {
            "tags": []
          },
          "execution_count": 34
        }
      ]
    },
    {
      "cell_type": "code",
      "metadata": {
        "id": "O3_9oxNopewn",
        "colab_type": "code",
        "colab": {}
      },
      "source": [
        "train=train.drop('Item_Type',axis=1)\n",
        "test=test.drop('Item_Type',axis=1)"
      ],
      "execution_count": 35,
      "outputs": []
    },
    {
      "cell_type": "code",
      "metadata": {
        "id": "vDNpCbEBP0ko",
        "colab_type": "code",
        "colab": {}
      },
      "source": [
        "train=train.rename(columns={'Item_new':'Item_Type'})\n",
        "test=test.rename(columns={'Item_new':'Item_Type'})"
      ],
      "execution_count": 36,
      "outputs": []
    },
    {
      "cell_type": "code",
      "metadata": {
        "id": "txycOrtxYfUd",
        "colab_type": "code",
        "colab": {
          "base_uri": "https://localhost:8080/",
          "height": 309
        },
        "outputId": "2d8f219a-c1f9-4c8d-ca52-f50aac2ce407"
      },
      "source": [
        "train.head()"
      ],
      "execution_count": 37,
      "outputs": [
        {
          "output_type": "execute_result",
          "data": {
            "text/html": [
              "<div>\n",
              "<style scoped>\n",
              "    .dataframe tbody tr th:only-of-type {\n",
              "        vertical-align: middle;\n",
              "    }\n",
              "\n",
              "    .dataframe tbody tr th {\n",
              "        vertical-align: top;\n",
              "    }\n",
              "\n",
              "    .dataframe thead th {\n",
              "        text-align: right;\n",
              "    }\n",
              "</style>\n",
              "<table border=\"1\" class=\"dataframe\">\n",
              "  <thead>\n",
              "    <tr style=\"text-align: right;\">\n",
              "      <th></th>\n",
              "      <th>Item_Identifier</th>\n",
              "      <th>Item_Weight</th>\n",
              "      <th>Item_Fat_Content</th>\n",
              "      <th>Item_Visibility</th>\n",
              "      <th>Item_MRP</th>\n",
              "      <th>Outlet_Identifier</th>\n",
              "      <th>Outlet_Establishment_Year</th>\n",
              "      <th>Outlet_Size</th>\n",
              "      <th>Outlet_Location_Type</th>\n",
              "      <th>Outlet_Type</th>\n",
              "      <th>Item_Outlet_Sales</th>\n",
              "      <th>Item_Type</th>\n",
              "    </tr>\n",
              "  </thead>\n",
              "  <tbody>\n",
              "    <tr>\n",
              "      <th>0</th>\n",
              "      <td>FDA15</td>\n",
              "      <td>9.30</td>\n",
              "      <td>Low Fat</td>\n",
              "      <td>0.016047</td>\n",
              "      <td>249.8092</td>\n",
              "      <td>OUT049</td>\n",
              "      <td>1999</td>\n",
              "      <td>Medium</td>\n",
              "      <td>Tier 1</td>\n",
              "      <td>Supermarket Type1</td>\n",
              "      <td>3735.1380</td>\n",
              "      <td>Food</td>\n",
              "    </tr>\n",
              "    <tr>\n",
              "      <th>1</th>\n",
              "      <td>DRC01</td>\n",
              "      <td>5.92</td>\n",
              "      <td>Regular</td>\n",
              "      <td>0.019278</td>\n",
              "      <td>48.2692</td>\n",
              "      <td>OUT018</td>\n",
              "      <td>2009</td>\n",
              "      <td>Medium</td>\n",
              "      <td>Tier 3</td>\n",
              "      <td>Supermarket Type2</td>\n",
              "      <td>443.4228</td>\n",
              "      <td>Drinks</td>\n",
              "    </tr>\n",
              "    <tr>\n",
              "      <th>2</th>\n",
              "      <td>FDN15</td>\n",
              "      <td>17.50</td>\n",
              "      <td>Low Fat</td>\n",
              "      <td>0.016760</td>\n",
              "      <td>141.6180</td>\n",
              "      <td>OUT049</td>\n",
              "      <td>1999</td>\n",
              "      <td>Medium</td>\n",
              "      <td>Tier 1</td>\n",
              "      <td>Supermarket Type1</td>\n",
              "      <td>2097.2700</td>\n",
              "      <td>Food</td>\n",
              "    </tr>\n",
              "    <tr>\n",
              "      <th>3</th>\n",
              "      <td>FDX07</td>\n",
              "      <td>19.20</td>\n",
              "      <td>Regular</td>\n",
              "      <td>0.070482</td>\n",
              "      <td>182.0950</td>\n",
              "      <td>OUT010</td>\n",
              "      <td>1998</td>\n",
              "      <td>Medium</td>\n",
              "      <td>Tier 3</td>\n",
              "      <td>Grocery Store</td>\n",
              "      <td>732.3800</td>\n",
              "      <td>Food</td>\n",
              "    </tr>\n",
              "    <tr>\n",
              "      <th>4</th>\n",
              "      <td>NCD19</td>\n",
              "      <td>8.93</td>\n",
              "      <td>Low Fat</td>\n",
              "      <td>0.070482</td>\n",
              "      <td>53.8614</td>\n",
              "      <td>OUT013</td>\n",
              "      <td>1987</td>\n",
              "      <td>High</td>\n",
              "      <td>Tier 3</td>\n",
              "      <td>Supermarket Type1</td>\n",
              "      <td>994.7052</td>\n",
              "      <td>Goods</td>\n",
              "    </tr>\n",
              "  </tbody>\n",
              "</table>\n",
              "</div>"
            ],
            "text/plain": [
              "  Item_Identifier  Item_Weight  ... Item_Outlet_Sales  Item_Type\n",
              "0           FDA15         9.30  ...         3735.1380       Food\n",
              "1           DRC01         5.92  ...          443.4228     Drinks\n",
              "2           FDN15        17.50  ...         2097.2700       Food\n",
              "3           FDX07        19.20  ...          732.3800       Food\n",
              "4           NCD19         8.93  ...          994.7052      Goods\n",
              "\n",
              "[5 rows x 12 columns]"
            ]
          },
          "metadata": {
            "tags": []
          },
          "execution_count": 37
        }
      ]
    },
    {
      "cell_type": "code",
      "metadata": {
        "id": "gIYWrRO1YWf8",
        "colab_type": "code",
        "colab": {
          "base_uri": "https://localhost:8080/",
          "height": 386
        },
        "outputId": "e411323f-c893-49fa-b578-c131bdba8506"
      },
      "source": [
        "sns.catplot(x = 'Item_Type',y = 'Item_Outlet_Sales',data = train)"
      ],
      "execution_count": 38,
      "outputs": [
        {
          "output_type": "execute_result",
          "data": {
            "text/plain": [
              "<seaborn.axisgrid.FacetGrid at 0x7f3788a4a2b0>"
            ]
          },
          "metadata": {
            "tags": []
          },
          "execution_count": 38
        },
        {
          "output_type": "display_data",
          "data": {
            "image/png": "[encoded data removed]",
            "text/plain": [
              "<Figure size 360x360 with 1 Axes>"
            ]
          },
          "metadata": {
            "tags": [],
            "needs_background": "light"
          }
        }
      ]
    },
    {
      "cell_type": "code",
      "metadata": {
        "id": "IXqUXqcHZNAq",
        "colab_type": "code",
        "colab": {}
      },
      "source": [
        "#Dropping Item_Identifier column\n",
        "train=train.drop('Item_Identifier',axis=1)\n",
        "test=test.drop('Item_Identifier',axis=1)"
      ],
      "execution_count": 39,
      "outputs": []
    },
    {
      "cell_type": "code",
      "metadata": {
        "id": "3hxSaPeqd_2t",
        "colab_type": "code",
        "colab": {
          "base_uri": "https://localhost:8080/",
          "height": 187
        },
        "outputId": "b41b46e4-4547-47a5-fcad-c4007f1d6f2e"
      },
      "source": [
        "#Creating new column named age\n",
        "train.Outlet_Establishment_Year.value_counts()"
      ],
      "execution_count": 40,
      "outputs": [
        {
          "output_type": "execute_result",
          "data": {
            "text/plain": [
              "1985    1463\n",
              "1987     932\n",
              "1999     930\n",
              "1997     930\n",
              "2004     930\n",
              "2002     929\n",
              "2009     928\n",
              "2007     926\n",
              "1998     555\n",
              "Name: Outlet_Establishment_Year, dtype: int64"
            ]
          },
          "metadata": {
            "tags": []
          },
          "execution_count": 40
        }
      ]
    },
    {
      "cell_type": "code",
      "metadata": {
        "id": "dUSMTrZVfCnm",
        "colab_type": "code",
        "colab": {
          "base_uri": "https://localhost:8080/",
          "height": 297
        },
        "outputId": "51bfb7e6-c652-4480-defe-2f1a1780a6a7"
      },
      "source": [
        "train['Age']=2009 - train['Outlet_Establishment_Year']\n",
        "test['Age']=2009 - test['Outlet_Establishment_Year']\n",
        "train.describe()"
      ],
      "execution_count": 41,
      "outputs": [
        {
          "output_type": "execute_result",
          "data": {
            "text/html": [
              "<div>\n",
              "<style scoped>\n",
              "    .dataframe tbody tr th:only-of-type {\n",
              "        vertical-align: middle;\n",
              "    }\n",
              "\n",
              "    .dataframe tbody tr th {\n",
              "        vertical-align: top;\n",
              "    }\n",
              "\n",
              "    .dataframe thead th {\n",
              "        text-align: right;\n",
              "    }\n",
              "</style>\n",
              "<table border=\"1\" class=\"dataframe\">\n",
              "  <thead>\n",
              "    <tr style=\"text-align: right;\">\n",
              "      <th></th>\n",
              "      <th>Item_Weight</th>\n",
              "      <th>Item_Visibility</th>\n",
              "      <th>Item_MRP</th>\n",
              "      <th>Outlet_Establishment_Year</th>\n",
              "      <th>Item_Outlet_Sales</th>\n",
              "      <th>Age</th>\n",
              "    </tr>\n",
              "  </thead>\n",
              "  <tbody>\n",
              "    <tr>\n",
              "      <th>count</th>\n",
              "      <td>8523.000000</td>\n",
              "      <td>8523.000000</td>\n",
              "      <td>8523.000000</td>\n",
              "      <td>8523.000000</td>\n",
              "      <td>8523.000000</td>\n",
              "      <td>8523.000000</td>\n",
              "    </tr>\n",
              "    <tr>\n",
              "      <th>mean</th>\n",
              "      <td>12.857645</td>\n",
              "      <td>0.070482</td>\n",
              "      <td>140.992782</td>\n",
              "      <td>1997.831867</td>\n",
              "      <td>2181.288914</td>\n",
              "      <td>11.168133</td>\n",
              "    </tr>\n",
              "    <tr>\n",
              "      <th>std</th>\n",
              "      <td>4.226124</td>\n",
              "      <td>0.048730</td>\n",
              "      <td>62.275067</td>\n",
              "      <td>8.371760</td>\n",
              "      <td>1706.499616</td>\n",
              "      <td>8.371760</td>\n",
              "    </tr>\n",
              "    <tr>\n",
              "      <th>min</th>\n",
              "      <td>4.555000</td>\n",
              "      <td>0.003575</td>\n",
              "      <td>31.290000</td>\n",
              "      <td>1985.000000</td>\n",
              "      <td>33.290000</td>\n",
              "      <td>0.000000</td>\n",
              "    </tr>\n",
              "    <tr>\n",
              "      <th>25%</th>\n",
              "      <td>9.310000</td>\n",
              "      <td>0.033085</td>\n",
              "      <td>93.826500</td>\n",
              "      <td>1987.000000</td>\n",
              "      <td>834.247400</td>\n",
              "      <td>5.000000</td>\n",
              "    </tr>\n",
              "    <tr>\n",
              "      <th>50%</th>\n",
              "      <td>12.857645</td>\n",
              "      <td>0.062517</td>\n",
              "      <td>143.012800</td>\n",
              "      <td>1999.000000</td>\n",
              "      <td>1794.331000</td>\n",
              "      <td>10.000000</td>\n",
              "    </tr>\n",
              "    <tr>\n",
              "      <th>75%</th>\n",
              "      <td>16.000000</td>\n",
              "      <td>0.094585</td>\n",
              "      <td>185.643700</td>\n",
              "      <td>2004.000000</td>\n",
              "      <td>3101.296400</td>\n",
              "      <td>22.000000</td>\n",
              "    </tr>\n",
              "    <tr>\n",
              "      <th>max</th>\n",
              "      <td>21.350000</td>\n",
              "      <td>0.328391</td>\n",
              "      <td>266.888400</td>\n",
              "      <td>2009.000000</td>\n",
              "      <td>13086.964800</td>\n",
              "      <td>24.000000</td>\n",
              "    </tr>\n",
              "  </tbody>\n",
              "</table>\n",
              "</div>"
            ],
            "text/plain": [
              "       Item_Weight  Item_Visibility  ...  Item_Outlet_Sales          Age\n",
              "count  8523.000000      8523.000000  ...        8523.000000  8523.000000\n",
              "mean     12.857645         0.070482  ...        2181.288914    11.168133\n",
              "std       4.226124         0.048730  ...        1706.499616     8.371760\n",
              "min       4.555000         0.003575  ...          33.290000     0.000000\n",
              "25%       9.310000         0.033085  ...         834.247400     5.000000\n",
              "50%      12.857645         0.062517  ...        1794.331000    10.000000\n",
              "75%      16.000000         0.094585  ...        3101.296400    22.000000\n",
              "max      21.350000         0.328391  ...       13086.964800    24.000000\n",
              "\n",
              "[8 rows x 6 columns]"
            ]
          },
          "metadata": {
            "tags": []
          },
          "execution_count": 41
        }
      ]
    },
    {
      "cell_type": "code",
      "metadata": {
        "id": "Mmv45a1ucWvO",
        "colab_type": "code",
        "colab": {
          "base_uri": "https://localhost:8080/",
          "height": 340
        },
        "outputId": "5f35c813-9477-41b0-9fe1-f74ed1bcfa9f"
      },
      "source": [
        "train.info()"
      ],
      "execution_count": 42,
      "outputs": [
        {
          "output_type": "stream",
          "text": [
            "<class 'pandas.core.frame.DataFrame'>\n",
            "RangeIndex: 8523 entries, 0 to 8522\n",
            "Data columns (total 12 columns):\n",
            " #   Column                     Non-Null Count  Dtype  \n",
            "---  ------                     --------------  -----  \n",
            " 0   Item_Weight                8523 non-null   float64\n",
            " 1   Item_Fat_Content           8523 non-null   object \n",
            " 2   Item_Visibility            8523 non-null   float64\n",
            " 3   Item_MRP                   8523 non-null   float64\n",
            " 4   Outlet_Identifier          8523 non-null   object \n",
            " 5   Outlet_Establishment_Year  8523 non-null   int64  \n",
            " 6   Outlet_Size                8523 non-null   object \n",
            " 7   Outlet_Location_Type       8523 non-null   object \n",
            " 8   Outlet_Type                8523 non-null   object \n",
            " 9   Item_Outlet_Sales          8523 non-null   float64\n",
            " 10  Item_Type                  8523 non-null   object \n",
            " 11  Age                        8523 non-null   int64  \n",
            "dtypes: float64(4), int64(2), object(6)\n",
            "memory usage: 799.2+ KB\n"
          ],
          "name": "stdout"
        }
      ]
    },
    {
      "cell_type": "code",
      "metadata": {
        "id": "bxGI9WEzfyyu",
        "colab_type": "code",
        "colab": {
          "base_uri": "https://localhost:8080/",
          "height": 289
        },
        "outputId": "dff083fc-ebb8-4a56-9042-eceffb17f15f"
      },
      "source": [
        "train=train.drop('Outlet_Establishment_Year',axis=1)\n",
        "test=test.drop('Outlet_Establishment_Year',axis=1)\n",
        "train.head()"
      ],
      "execution_count": 43,
      "outputs": [
        {
          "output_type": "execute_result",
          "data": {
            "text/html": [
              "<div>\n",
              "<style scoped>\n",
              "    .dataframe tbody tr th:only-of-type {\n",
              "        vertical-align: middle;\n",
              "    }\n",
              "\n",
              "    .dataframe tbody tr th {\n",
              "        vertical-align: top;\n",
              "    }\n",
              "\n",
              "    .dataframe thead th {\n",
              "        text-align: right;\n",
              "    }\n",
              "</style>\n",
              "<table border=\"1\" class=\"dataframe\">\n",
              "  <thead>\n",
              "    <tr style=\"text-align: right;\">\n",
              "      <th></th>\n",
              "      <th>Item_Weight</th>\n",
              "      <th>Item_Fat_Content</th>\n",
              "      <th>Item_Visibility</th>\n",
              "      <th>Item_MRP</th>\n",
              "      <th>Outlet_Identifier</th>\n",
              "      <th>Outlet_Size</th>\n",
              "      <th>Outlet_Location_Type</th>\n",
              "      <th>Outlet_Type</th>\n",
              "      <th>Item_Outlet_Sales</th>\n",
              "      <th>Item_Type</th>\n",
              "      <th>Age</th>\n",
              "    </tr>\n",
              "  </thead>\n",
              "  <tbody>\n",
              "    <tr>\n",
              "      <th>0</th>\n",
              "      <td>9.30</td>\n",
              "      <td>Low Fat</td>\n",
              "      <td>0.016047</td>\n",
              "      <td>249.8092</td>\n",
              "      <td>OUT049</td>\n",
              "      <td>Medium</td>\n",
              "      <td>Tier 1</td>\n",
              "      <td>Supermarket Type1</td>\n",
              "      <td>3735.1380</td>\n",
              "      <td>Food</td>\n",
              "      <td>10</td>\n",
              "    </tr>\n",
              "    <tr>\n",
              "      <th>1</th>\n",
              "      <td>5.92</td>\n",
              "      <td>Regular</td>\n",
              "      <td>0.019278</td>\n",
              "      <td>48.2692</td>\n",
              "      <td>OUT018</td>\n",
              "      <td>Medium</td>\n",
              "      <td>Tier 3</td>\n",
              "      <td>Supermarket Type2</td>\n",
              "      <td>443.4228</td>\n",
              "      <td>Drinks</td>\n",
              "      <td>0</td>\n",
              "    </tr>\n",
              "    <tr>\n",
              "      <th>2</th>\n",
              "      <td>17.50</td>\n",
              "      <td>Low Fat</td>\n",
              "      <td>0.016760</td>\n",
              "      <td>141.6180</td>\n",
              "      <td>OUT049</td>\n",
              "      <td>Medium</td>\n",
              "      <td>Tier 1</td>\n",
              "      <td>Supermarket Type1</td>\n",
              "      <td>2097.2700</td>\n",
              "      <td>Food</td>\n",
              "      <td>10</td>\n",
              "    </tr>\n",
              "    <tr>\n",
              "      <th>3</th>\n",
              "      <td>19.20</td>\n",
              "      <td>Regular</td>\n",
              "      <td>0.070482</td>\n",
              "      <td>182.0950</td>\n",
              "      <td>OUT010</td>\n",
              "      <td>Medium</td>\n",
              "      <td>Tier 3</td>\n",
              "      <td>Grocery Store</td>\n",
              "      <td>732.3800</td>\n",
              "      <td>Food</td>\n",
              "      <td>11</td>\n",
              "    </tr>\n",
              "    <tr>\n",
              "      <th>4</th>\n",
              "      <td>8.93</td>\n",
              "      <td>Low Fat</td>\n",
              "      <td>0.070482</td>\n",
              "      <td>53.8614</td>\n",
              "      <td>OUT013</td>\n",
              "      <td>High</td>\n",
              "      <td>Tier 3</td>\n",
              "      <td>Supermarket Type1</td>\n",
              "      <td>994.7052</td>\n",
              "      <td>Goods</td>\n",
              "      <td>22</td>\n",
              "    </tr>\n",
              "  </tbody>\n",
              "</table>\n",
              "</div>"
            ],
            "text/plain": [
              "   Item_Weight Item_Fat_Content  ...  Item_Type  Age\n",
              "0         9.30          Low Fat  ...       Food   10\n",
              "1         5.92          Regular  ...     Drinks    0\n",
              "2        17.50          Low Fat  ...       Food   10\n",
              "3        19.20          Regular  ...       Food   11\n",
              "4         8.93          Low Fat  ...      Goods   22\n",
              "\n",
              "[5 rows x 11 columns]"
            ]
          },
          "metadata": {
            "tags": []
          },
          "execution_count": 43
        }
      ]
    },
    {
      "cell_type": "code",
      "metadata": {
        "id": "h0jl_INCi9CB",
        "colab_type": "code",
        "colab": {
          "base_uri": "https://localhost:8080/",
          "height": 241
        },
        "outputId": "59106f15-bac1-4994-aaf3-4aed098ef2e5"
      },
      "source": [
        "#Encoding the variables\n",
        "#y=pd.get_dummies(y,drop_first=True)\n",
        "train=pd.get_dummies(train,drop_first=True)\n",
        "test=pd.get_dummies(test,drop_first=True)\n",
        "train.head()"
      ],
      "execution_count": 44,
      "outputs": [
        {
          "output_type": "execute_result",
          "data": {
            "text/html": [
              "<div>\n",
              "<style scoped>\n",
              "    .dataframe tbody tr th:only-of-type {\n",
              "        vertical-align: middle;\n",
              "    }\n",
              "\n",
              "    .dataframe tbody tr th {\n",
              "        vertical-align: top;\n",
              "    }\n",
              "\n",
              "    .dataframe thead th {\n",
              "        text-align: right;\n",
              "    }\n",
              "</style>\n",
              "<table border=\"1\" class=\"dataframe\">\n",
              "  <thead>\n",
              "    <tr style=\"text-align: right;\">\n",
              "      <th></th>\n",
              "      <th>Item_Weight</th>\n",
              "      <th>Item_Visibility</th>\n",
              "      <th>Item_MRP</th>\n",
              "      <th>Item_Outlet_Sales</th>\n",
              "      <th>Age</th>\n",
              "      <th>Item_Fat_Content_Regular</th>\n",
              "      <th>Outlet_Identifier_OUT013</th>\n",
              "      <th>Outlet_Identifier_OUT017</th>\n",
              "      <th>Outlet_Identifier_OUT018</th>\n",
              "      <th>Outlet_Identifier_OUT019</th>\n",
              "      <th>Outlet_Identifier_OUT027</th>\n",
              "      <th>Outlet_Identifier_OUT035</th>\n",
              "      <th>Outlet_Identifier_OUT045</th>\n",
              "      <th>Outlet_Identifier_OUT046</th>\n",
              "      <th>Outlet_Identifier_OUT049</th>\n",
              "      <th>Outlet_Size_Medium</th>\n",
              "      <th>Outlet_Size_Small</th>\n",
              "      <th>Outlet_Location_Type_Tier 2</th>\n",
              "      <th>Outlet_Location_Type_Tier 3</th>\n",
              "      <th>Outlet_Type_Supermarket Type1</th>\n",
              "      <th>Outlet_Type_Supermarket Type2</th>\n",
              "      <th>Outlet_Type_Supermarket Type3</th>\n",
              "      <th>Item_Type_Food</th>\n",
              "      <th>Item_Type_Goods</th>\n",
              "    </tr>\n",
              "  </thead>\n",
              "  <tbody>\n",
              "    <tr>\n",
              "      <th>0</th>\n",
              "      <td>9.30</td>\n",
              "      <td>0.016047</td>\n",
              "      <td>249.8092</td>\n",
              "      <td>3735.1380</td>\n",
              "      <td>10</td>\n",
              "      <td>0</td>\n",
              "      <td>0</td>\n",
              "      <td>0</td>\n",
              "      <td>0</td>\n",
              "      <td>0</td>\n",
              "      <td>0</td>\n",
              "      <td>0</td>\n",
              "      <td>0</td>\n",
              "      <td>0</td>\n",
              "      <td>1</td>\n",
              "      <td>1</td>\n",
              "      <td>0</td>\n",
              "      <td>0</td>\n",
              "      <td>0</td>\n",
              "      <td>1</td>\n",
              "      <td>0</td>\n",
              "      <td>0</td>\n",
              "      <td>1</td>\n",
              "      <td>0</td>\n",
              "    </tr>\n",
              "    <tr>\n",
              "      <th>1</th>\n",
              "      <td>5.92</td>\n",
              "      <td>0.019278</td>\n",
              "      <td>48.2692</td>\n",
              "      <td>443.4228</td>\n",
              "      <td>0</td>\n",
              "      <td>1</td>\n",
              "      <td>0</td>\n",
              "      <td>0</td>\n",
              "      <td>1</td>\n",
              "      <td>0</td>\n",
              "      <td>0</td>\n",
              "      <td>0</td>\n",
              "      <td>0</td>\n",
              "      <td>0</td>\n",
              "      <td>0</td>\n",
              "      <td>1</td>\n",
              "      <td>0</td>\n",
              "      <td>0</td>\n",
              "      <td>1</td>\n",
              "      <td>0</td>\n",
              "      <td>1</td>\n",
              "      <td>0</td>\n",
              "      <td>0</td>\n",
              "      <td>0</td>\n",
              "    </tr>\n",
              "    <tr>\n",
              "      <th>2</th>\n",
              "      <td>17.50</td>\n",
              "      <td>0.016760</td>\n",
              "      <td>141.6180</td>\n",
              "      <td>2097.2700</td>\n",
              "      <td>10</td>\n",
              "      <td>0</td>\n",
              "      <td>0</td>\n",
              "      <td>0</td>\n",
              "      <td>0</td>\n",
              "      <td>0</td>\n",
              "      <td>0</td>\n",
              "      <td>0</td>\n",
              "      <td>0</td>\n",
              "      <td>0</td>\n",
              "      <td>1</td>\n",
              "      <td>1</td>\n",
              "      <td>0</td>\n",
              "      <td>0</td>\n",
              "      <td>0</td>\n",
              "      <td>1</td>\n",
              "      <td>0</td>\n",
              "      <td>0</td>\n",
              "      <td>1</td>\n",
              "      <td>0</td>\n",
              "    </tr>\n",
              "    <tr>\n",
              "      <th>3</th>\n",
              "      <td>19.20</td>\n",
              "      <td>0.070482</td>\n",
              "      <td>182.0950</td>\n",
              "      <td>732.3800</td>\n",
              "      <td>11</td>\n",
              "      <td>1</td>\n",
              "      <td>0</td>\n",
              "      <td>0</td>\n",
              "      <td>0</td>\n",
              "      <td>0</td>\n",
              "      <td>0</td>\n",
              "      <td>0</td>\n",
              "      <td>0</td>\n",
              "      <td>0</td>\n",
              "      <td>0</td>\n",
              "      <td>1</td>\n",
              "      <td>0</td>\n",
              "      <td>0</td>\n",
              "      <td>1</td>\n",
              "      <td>0</td>\n",
              "      <td>0</td>\n",
              "      <td>0</td>\n",
              "      <td>1</td>\n",
              "      <td>0</td>\n",
              "    </tr>\n",
              "    <tr>\n",
              "      <th>4</th>\n",
              "      <td>8.93</td>\n",
              "      <td>0.070482</td>\n",
              "      <td>53.8614</td>\n",
              "      <td>994.7052</td>\n",
              "      <td>22</td>\n",
              "      <td>0</td>\n",
              "      <td>1</td>\n",
              "      <td>0</td>\n",
              "      <td>0</td>\n",
              "      <td>0</td>\n",
              "      <td>0</td>\n",
              "      <td>0</td>\n",
              "      <td>0</td>\n",
              "      <td>0</td>\n",
              "      <td>0</td>\n",
              "      <td>0</td>\n",
              "      <td>0</td>\n",
              "      <td>0</td>\n",
              "      <td>1</td>\n",
              "      <td>1</td>\n",
              "      <td>0</td>\n",
              "      <td>0</td>\n",
              "      <td>0</td>\n",
              "      <td>1</td>\n",
              "    </tr>\n",
              "  </tbody>\n",
              "</table>\n",
              "</div>"
            ],
            "text/plain": [
              "   Item_Weight  Item_Visibility  ...  Item_Type_Food  Item_Type_Goods\n",
              "0         9.30         0.016047  ...               1                0\n",
              "1         5.92         0.019278  ...               0                0\n",
              "2        17.50         0.016760  ...               1                0\n",
              "3        19.20         0.070482  ...               1                0\n",
              "4         8.93         0.070482  ...               0                1\n",
              "\n",
              "[5 rows x 24 columns]"
            ]
          },
          "metadata": {
            "tags": []
          },
          "execution_count": 44
        }
      ]
    },
    {
      "cell_type": "code",
      "metadata": {
        "id": "1ZAyuq6aXzLK",
        "colab_type": "code",
        "colab": {}
      },
      "source": [
        "#Normalization\n",
        "from sklearn.preprocessing import StandardScaler\n",
        "SS=StandardScaler()"
      ],
      "execution_count": 45,
      "outputs": []
    },
    {
      "cell_type": "code",
      "metadata": {
        "id": "w1Kt5Y5WiNYi",
        "colab_type": "code",
        "colab": {}
      },
      "source": [
        "trainscaled=SS.fit_transform(train)\n",
        "testscaled=SS.fit_transform(test)\n",
        "#yscaled=SS.fit_transform(y)"
      ],
      "execution_count": 46,
      "outputs": []
    },
    {
      "cell_type": "code",
      "metadata": {
        "id": "SW-4DJlvk7ba",
        "colab_type": "code",
        "colab": {}
      },
      "source": [
        "trainscaled=pd.DataFrame(trainscaled,columns=train.columns)\n",
        "testscaled=pd.DataFrame(testscaled,columns=test.columns)\n",
        "#yscaled=pd.DataFrame(yscaled,columns=y.columns)"
      ],
      "execution_count": 47,
      "outputs": []
    },
    {
      "cell_type": "code",
      "metadata": {
        "id": "zdMp4fuBkQgw",
        "colab_type": "code",
        "colab": {
          "base_uri": "https://localhost:8080/",
          "height": 241
        },
        "outputId": "9e4f01a3-a468-4320-bd00-d1841841acdb"
      },
      "source": [
        "trainscaled.head()"
      ],
      "execution_count": 48,
      "outputs": [
        {
          "output_type": "execute_result",
          "data": {
            "text/html": [
              "<div>\n",
              "<style scoped>\n",
              "    .dataframe tbody tr th:only-of-type {\n",
              "        vertical-align: middle;\n",
              "    }\n",
              "\n",
              "    .dataframe tbody tr th {\n",
              "        vertical-align: top;\n",
              "    }\n",
              "\n",
              "    .dataframe thead th {\n",
              "        text-align: right;\n",
              "    }\n",
              "</style>\n",
              "<table border=\"1\" class=\"dataframe\">\n",
              "  <thead>\n",
              "    <tr style=\"text-align: right;\">\n",
              "      <th></th>\n",
              "      <th>Item_Weight</th>\n",
              "      <th>Item_Visibility</th>\n",
              "      <th>Item_MRP</th>\n",
              "      <th>Item_Outlet_Sales</th>\n",
              "      <th>Age</th>\n",
              "      <th>Item_Fat_Content_Regular</th>\n",
              "      <th>Outlet_Identifier_OUT013</th>\n",
              "      <th>Outlet_Identifier_OUT017</th>\n",
              "      <th>Outlet_Identifier_OUT018</th>\n",
              "      <th>Outlet_Identifier_OUT019</th>\n",
              "      <th>Outlet_Identifier_OUT027</th>\n",
              "      <th>Outlet_Identifier_OUT035</th>\n",
              "      <th>Outlet_Identifier_OUT045</th>\n",
              "      <th>Outlet_Identifier_OUT046</th>\n",
              "      <th>Outlet_Identifier_OUT049</th>\n",
              "      <th>Outlet_Size_Medium</th>\n",
              "      <th>Outlet_Size_Small</th>\n",
              "      <th>Outlet_Location_Type_Tier 2</th>\n",
              "      <th>Outlet_Location_Type_Tier 3</th>\n",
              "      <th>Outlet_Type_Supermarket Type1</th>\n",
              "      <th>Outlet_Type_Supermarket Type2</th>\n",
              "      <th>Outlet_Type_Supermarket Type3</th>\n",
              "      <th>Item_Type_Food</th>\n",
              "      <th>Item_Type_Goods</th>\n",
              "    </tr>\n",
              "  </thead>\n",
              "  <tbody>\n",
              "    <tr>\n",
              "      <th>0</th>\n",
              "      <td>-0.841872</td>\n",
              "      <td>-1.117123e+00</td>\n",
              "      <td>1.747454</td>\n",
              "      <td>0.910601</td>\n",
              "      <td>-0.139541</td>\n",
              "      <td>-0.738147</td>\n",
              "      <td>-0.350395</td>\n",
              "      <td>-0.349128</td>\n",
              "      <td>-0.349551</td>\n",
              "      <td>-0.256985</td>\n",
              "      <td>-0.351028</td>\n",
              "      <td>-0.349973</td>\n",
              "      <td>-0.349762</td>\n",
              "      <td>-0.349973</td>\n",
              "      <td>2.857362</td>\n",
              "      <td>0.798807</td>\n",
              "      <td>-0.623893</td>\n",
              "      <td>-0.696678</td>\n",
              "      <td>-0.804732</td>\n",
              "      <td>0.726802</td>\n",
              "      <td>-0.349551</td>\n",
              "      <td>-0.351028</td>\n",
              "      <td>0.625708</td>\n",
              "      <td>-0.480558</td>\n",
              "    </tr>\n",
              "    <tr>\n",
              "      <th>1</th>\n",
              "      <td>-1.641706</td>\n",
              "      <td>-1.050818e+00</td>\n",
              "      <td>-1.489023</td>\n",
              "      <td>-1.018440</td>\n",
              "      <td>-1.334103</td>\n",
              "      <td>1.354743</td>\n",
              "      <td>-0.350395</td>\n",
              "      <td>-0.349128</td>\n",
              "      <td>2.860816</td>\n",
              "      <td>-0.256985</td>\n",
              "      <td>-0.351028</td>\n",
              "      <td>-0.349973</td>\n",
              "      <td>-0.349762</td>\n",
              "      <td>-0.349973</td>\n",
              "      <td>-0.349973</td>\n",
              "      <td>0.798807</td>\n",
              "      <td>-0.623893</td>\n",
              "      <td>-0.696678</td>\n",
              "      <td>1.242650</td>\n",
              "      <td>-1.375891</td>\n",
              "      <td>2.860816</td>\n",
              "      <td>-0.351028</td>\n",
              "      <td>-1.598190</td>\n",
              "      <td>-0.480558</td>\n",
              "    </tr>\n",
              "    <tr>\n",
              "      <th>2</th>\n",
              "      <td>1.098554</td>\n",
              "      <td>-1.102496e+00</td>\n",
              "      <td>0.010040</td>\n",
              "      <td>-0.049238</td>\n",
              "      <td>-0.139541</td>\n",
              "      <td>-0.738147</td>\n",
              "      <td>-0.350395</td>\n",
              "      <td>-0.349128</td>\n",
              "      <td>-0.349551</td>\n",
              "      <td>-0.256985</td>\n",
              "      <td>-0.351028</td>\n",
              "      <td>-0.349973</td>\n",
              "      <td>-0.349762</td>\n",
              "      <td>-0.349973</td>\n",
              "      <td>2.857362</td>\n",
              "      <td>0.798807</td>\n",
              "      <td>-0.623893</td>\n",
              "      <td>-0.696678</td>\n",
              "      <td>-0.804732</td>\n",
              "      <td>0.726802</td>\n",
              "      <td>-0.349551</td>\n",
              "      <td>-0.351028</td>\n",
              "      <td>0.625708</td>\n",
              "      <td>-0.480558</td>\n",
              "    </tr>\n",
              "    <tr>\n",
              "      <th>3</th>\n",
              "      <td>1.500838</td>\n",
              "      <td>3.702459e-15</td>\n",
              "      <td>0.660050</td>\n",
              "      <td>-0.849103</td>\n",
              "      <td>-0.020085</td>\n",
              "      <td>1.354743</td>\n",
              "      <td>-0.350395</td>\n",
              "      <td>-0.349128</td>\n",
              "      <td>-0.349551</td>\n",
              "      <td>-0.256985</td>\n",
              "      <td>-0.351028</td>\n",
              "      <td>-0.349973</td>\n",
              "      <td>-0.349762</td>\n",
              "      <td>-0.349973</td>\n",
              "      <td>-0.349973</td>\n",
              "      <td>0.798807</td>\n",
              "      <td>-0.623893</td>\n",
              "      <td>-0.696678</td>\n",
              "      <td>1.242650</td>\n",
              "      <td>-1.375891</td>\n",
              "      <td>-0.349551</td>\n",
              "      <td>-0.351028</td>\n",
              "      <td>0.625708</td>\n",
              "      <td>-0.480558</td>\n",
              "    </tr>\n",
              "    <tr>\n",
              "      <th>4</th>\n",
              "      <td>-0.929428</td>\n",
              "      <td>3.702459e-15</td>\n",
              "      <td>-1.399220</td>\n",
              "      <td>-0.695373</td>\n",
              "      <td>1.293934</td>\n",
              "      <td>-0.738147</td>\n",
              "      <td>2.853918</td>\n",
              "      <td>-0.349128</td>\n",
              "      <td>-0.349551</td>\n",
              "      <td>-0.256985</td>\n",
              "      <td>-0.351028</td>\n",
              "      <td>-0.349973</td>\n",
              "      <td>-0.349762</td>\n",
              "      <td>-0.349973</td>\n",
              "      <td>-0.349973</td>\n",
              "      <td>-1.251866</td>\n",
              "      <td>-0.623893</td>\n",
              "      <td>-0.696678</td>\n",
              "      <td>1.242650</td>\n",
              "      <td>0.726802</td>\n",
              "      <td>-0.349551</td>\n",
              "      <td>-0.351028</td>\n",
              "      <td>-1.598190</td>\n",
              "      <td>2.080915</td>\n",
              "    </tr>\n",
              "  </tbody>\n",
              "</table>\n",
              "</div>"
            ],
            "text/plain": [
              "   Item_Weight  Item_Visibility  ...  Item_Type_Food  Item_Type_Goods\n",
              "0    -0.841872    -1.117123e+00  ...        0.625708        -0.480558\n",
              "1    -1.641706    -1.050818e+00  ...       -1.598190        -0.480558\n",
              "2     1.098554    -1.102496e+00  ...        0.625708        -0.480558\n",
              "3     1.500838     3.702459e-15  ...        0.625708        -0.480558\n",
              "4    -0.929428     3.702459e-15  ...       -1.598190         2.080915\n",
              "\n",
              "[5 rows x 24 columns]"
            ]
          },
          "metadata": {
            "tags": []
          },
          "execution_count": 48
        }
      ]
    },
    {
      "cell_type": "code",
      "metadata": {
        "id": "VD2-PfWAjOH7",
        "colab_type": "code",
        "colab": {
          "base_uri": "https://localhost:8080/",
          "height": 241
        },
        "outputId": "27733074-85d7-444d-e9d1-cdb4420492f5"
      },
      "source": [
        "#Creating X and Y\n",
        "y=trainscaled['Item_Outlet_Sales']\n",
        "X=trainscaled.drop('Item_Outlet_Sales',axis=1)\n",
        "X.head()"
      ],
      "execution_count": 49,
      "outputs": [
        {
          "output_type": "execute_result",
          "data": {
            "text/html": [
              "<div>\n",
              "<style scoped>\n",
              "    .dataframe tbody tr th:only-of-type {\n",
              "        vertical-align: middle;\n",
              "    }\n",
              "\n",
              "    .dataframe tbody tr th {\n",
              "        vertical-align: top;\n",
              "    }\n",
              "\n",
              "    .dataframe thead th {\n",
              "        text-align: right;\n",
              "    }\n",
              "</style>\n",
              "<table border=\"1\" class=\"dataframe\">\n",
              "  <thead>\n",
              "    <tr style=\"text-align: right;\">\n",
              "      <th></th>\n",
              "      <th>Item_Weight</th>\n",
              "      <th>Item_Visibility</th>\n",
              "      <th>Item_MRP</th>\n",
              "      <th>Age</th>\n",
              "      <th>Item_Fat_Content_Regular</th>\n",
              "      <th>Outlet_Identifier_OUT013</th>\n",
              "      <th>Outlet_Identifier_OUT017</th>\n",
              "      <th>Outlet_Identifier_OUT018</th>\n",
              "      <th>Outlet_Identifier_OUT019</th>\n",
              "      <th>Outlet_Identifier_OUT027</th>\n",
              "      <th>Outlet_Identifier_OUT035</th>\n",
              "      <th>Outlet_Identifier_OUT045</th>\n",
              "      <th>Outlet_Identifier_OUT046</th>\n",
              "      <th>Outlet_Identifier_OUT049</th>\n",
              "      <th>Outlet_Size_Medium</th>\n",
              "      <th>Outlet_Size_Small</th>\n",
              "      <th>Outlet_Location_Type_Tier 2</th>\n",
              "      <th>Outlet_Location_Type_Tier 3</th>\n",
              "      <th>Outlet_Type_Supermarket Type1</th>\n",
              "      <th>Outlet_Type_Supermarket Type2</th>\n",
              "      <th>Outlet_Type_Supermarket Type3</th>\n",
              "      <th>Item_Type_Food</th>\n",
              "      <th>Item_Type_Goods</th>\n",
              "    </tr>\n",
              "  </thead>\n",
              "  <tbody>\n",
              "    <tr>\n",
              "      <th>0</th>\n",
              "      <td>-0.841872</td>\n",
              "      <td>-1.117123e+00</td>\n",
              "      <td>1.747454</td>\n",
              "      <td>-0.139541</td>\n",
              "      <td>-0.738147</td>\n",
              "      <td>-0.350395</td>\n",
              "      <td>-0.349128</td>\n",
              "      <td>-0.349551</td>\n",
              "      <td>-0.256985</td>\n",
              "      <td>-0.351028</td>\n",
              "      <td>-0.349973</td>\n",
              "      <td>-0.349762</td>\n",
              "      <td>-0.349973</td>\n",
              "      <td>2.857362</td>\n",
              "      <td>0.798807</td>\n",
              "      <td>-0.623893</td>\n",
              "      <td>-0.696678</td>\n",
              "      <td>-0.804732</td>\n",
              "      <td>0.726802</td>\n",
              "      <td>-0.349551</td>\n",
              "      <td>-0.351028</td>\n",
              "      <td>0.625708</td>\n",
              "      <td>-0.480558</td>\n",
              "    </tr>\n",
              "    <tr>\n",
              "      <th>1</th>\n",
              "      <td>-1.641706</td>\n",
              "      <td>-1.050818e+00</td>\n",
              "      <td>-1.489023</td>\n",
              "      <td>-1.334103</td>\n",
              "      <td>1.354743</td>\n",
              "      <td>-0.350395</td>\n",
              "      <td>-0.349128</td>\n",
              "      <td>2.860816</td>\n",
              "      <td>-0.256985</td>\n",
              "      <td>-0.351028</td>\n",
              "      <td>-0.349973</td>\n",
              "      <td>-0.349762</td>\n",
              "      <td>-0.349973</td>\n",
              "      <td>-0.349973</td>\n",
              "      <td>0.798807</td>\n",
              "      <td>-0.623893</td>\n",
              "      <td>-0.696678</td>\n",
              "      <td>1.242650</td>\n",
              "      <td>-1.375891</td>\n",
              "      <td>2.860816</td>\n",
              "      <td>-0.351028</td>\n",
              "      <td>-1.598190</td>\n",
              "      <td>-0.480558</td>\n",
              "    </tr>\n",
              "    <tr>\n",
              "      <th>2</th>\n",
              "      <td>1.098554</td>\n",
              "      <td>-1.102496e+00</td>\n",
              "      <td>0.010040</td>\n",
              "      <td>-0.139541</td>\n",
              "      <td>-0.738147</td>\n",
              "      <td>-0.350395</td>\n",
              "      <td>-0.349128</td>\n",
              "      <td>-0.349551</td>\n",
              "      <td>-0.256985</td>\n",
              "      <td>-0.351028</td>\n",
              "      <td>-0.349973</td>\n",
              "      <td>-0.349762</td>\n",
              "      <td>-0.349973</td>\n",
              "      <td>2.857362</td>\n",
              "      <td>0.798807</td>\n",
              "      <td>-0.623893</td>\n",
              "      <td>-0.696678</td>\n",
              "      <td>-0.804732</td>\n",
              "      <td>0.726802</td>\n",
              "      <td>-0.349551</td>\n",
              "      <td>-0.351028</td>\n",
              "      <td>0.625708</td>\n",
              "      <td>-0.480558</td>\n",
              "    </tr>\n",
              "    <tr>\n",
              "      <th>3</th>\n",
              "      <td>1.500838</td>\n",
              "      <td>3.702459e-15</td>\n",
              "      <td>0.660050</td>\n",
              "      <td>-0.020085</td>\n",
              "      <td>1.354743</td>\n",
              "      <td>-0.350395</td>\n",
              "      <td>-0.349128</td>\n",
              "      <td>-0.349551</td>\n",
              "      <td>-0.256985</td>\n",
              "      <td>-0.351028</td>\n",
              "      <td>-0.349973</td>\n",
              "      <td>-0.349762</td>\n",
              "      <td>-0.349973</td>\n",
              "      <td>-0.349973</td>\n",
              "      <td>0.798807</td>\n",
              "      <td>-0.623893</td>\n",
              "      <td>-0.696678</td>\n",
              "      <td>1.242650</td>\n",
              "      <td>-1.375891</td>\n",
              "      <td>-0.349551</td>\n",
              "      <td>-0.351028</td>\n",
              "      <td>0.625708</td>\n",
              "      <td>-0.480558</td>\n",
              "    </tr>\n",
              "    <tr>\n",
              "      <th>4</th>\n",
              "      <td>-0.929428</td>\n",
              "      <td>3.702459e-15</td>\n",
              "      <td>-1.399220</td>\n",
              "      <td>1.293934</td>\n",
              "      <td>-0.738147</td>\n",
              "      <td>2.853918</td>\n",
              "      <td>-0.349128</td>\n",
              "      <td>-0.349551</td>\n",
              "      <td>-0.256985</td>\n",
              "      <td>-0.351028</td>\n",
              "      <td>-0.349973</td>\n",
              "      <td>-0.349762</td>\n",
              "      <td>-0.349973</td>\n",
              "      <td>-0.349973</td>\n",
              "      <td>-1.251866</td>\n",
              "      <td>-0.623893</td>\n",
              "      <td>-0.696678</td>\n",
              "      <td>1.242650</td>\n",
              "      <td>0.726802</td>\n",
              "      <td>-0.349551</td>\n",
              "      <td>-0.351028</td>\n",
              "      <td>-1.598190</td>\n",
              "      <td>2.080915</td>\n",
              "    </tr>\n",
              "  </tbody>\n",
              "</table>\n",
              "</div>"
            ],
            "text/plain": [
              "   Item_Weight  Item_Visibility  ...  Item_Type_Food  Item_Type_Goods\n",
              "0    -0.841872    -1.117123e+00  ...        0.625708        -0.480558\n",
              "1    -1.641706    -1.050818e+00  ...       -1.598190        -0.480558\n",
              "2     1.098554    -1.102496e+00  ...        0.625708        -0.480558\n",
              "3     1.500838     3.702459e-15  ...        0.625708        -0.480558\n",
              "4    -0.929428     3.702459e-15  ...       -1.598190         2.080915\n",
              "\n",
              "[5 rows x 23 columns]"
            ]
          },
          "metadata": {
            "tags": []
          },
          "execution_count": 49
        }
      ]
    },
    {
      "cell_type": "code",
      "metadata": {
        "id": "Ss8rxbOpAPwV",
        "colab_type": "code",
        "colab": {
          "base_uri": "https://localhost:8080/",
          "height": 34
        },
        "outputId": "39e252e8-90ca-4fbc-b7de-617513898626"
      },
      "source": [
        "y.shape"
      ],
      "execution_count": 50,
      "outputs": [
        {
          "output_type": "execute_result",
          "data": {
            "text/plain": [
              "(8523,)"
            ]
          },
          "metadata": {
            "tags": []
          },
          "execution_count": 50
        }
      ]
    },
    {
      "cell_type": "code",
      "metadata": {
        "id": "sbujs5ceAPwr",
        "colab_type": "code",
        "colab": {}
      },
      "source": [
        "#Splitting the dataset\n",
        "X_train,X_test,y_train,y_test=train_test_split(X,y,test_size=0.3,random_state=123)"
      ],
      "execution_count": 51,
      "outputs": []
    },
    {
      "cell_type": "code",
      "metadata": {
        "id": "f0xNrRDTAPwy",
        "colab_type": "code",
        "colab": {
          "base_uri": "https://localhost:8080/",
          "height": 34
        },
        "outputId": "aa76d08c-f0ac-4593-879b-3108fa72ddd0"
      },
      "source": [
        "# shape of training and validation set\n",
        "(X_train.shape, y_train.shape), (X_test.shape, y_test.shape)"
      ],
      "execution_count": 52,
      "outputs": [
        {
          "output_type": "execute_result",
          "data": {
            "text/plain": [
              "(((5966, 23), (5966,)), ((2557, 23), (2557,)))"
            ]
          },
          "metadata": {
            "tags": []
          },
          "execution_count": 52
        }
      ]
    },
    {
      "cell_type": "code",
      "metadata": {
        "id": "FSA8EgyHAPw8",
        "colab_type": "code",
        "colab": {}
      },
      "source": [
        "#Checking the bestscore and parameters with Gridsearch and Keras regressor"
      ],
      "execution_count": 53,
      "outputs": []
    },
    {
      "cell_type": "code",
      "metadata": {
        "id": "a4CSyDicAPxF",
        "colab_type": "code",
        "colab": {
          "base_uri": "https://localhost:8080/",
          "height": 1000
        },
        "outputId": "cca7e6e8-adc4-4ecc-fb50-843ab995d1c1"
      },
      "source": [
        "from keras.wrappers.scikit_learn import KerasRegressor\n",
        "from sklearn.model_selection import GridSearchCV\n",
        "from keras.models import Sequential\n",
        "\n",
        "def create_model(optimizer='Adadelta',activation='softsign'):\n",
        "    # create model\n",
        "    model = Sequential()\n",
        "    model.add(Dense(9, input_dim=X_train.shape[1], activation='softsign'))\n",
        "    model.add(Dense(5, activation='softsign'))\n",
        "    model.add(Dense(5, activation='softsign'))\n",
        "    model.add(Dense(1, activation='linear'))\n",
        "    model.compile(loss='mean_squared_error', optimizer=optimizer,metrics=['mse'])\n",
        "    return model\n",
        "# define the grid search parameters\n",
        "model = KerasRegressor(build_fn=create_model, epochs=15, verbose=0)\n",
        "activation = ['softmax', 'softplus', 'softsign', 'relu', 'tanh', 'linear']\n",
        "optimizer = [ 'Adagrad','Adam','Adadelta','SGD']\n",
        "epochs=[5,15,25,30,60]\n",
        "param_grid = dict(optimizer=optimizer,activation=activation,epochs=epochs)\n",
        "grid = GridSearchCV(estimator=model, param_grid=param_grid, n_jobs=2, cv=3,scoring=\"r2\")\n",
        "grid_result = grid.fit(X_train, y_train)\n",
        "# summarize results\n",
        "print(\"Best: %f using %s\" % (grid_result.best_score_, grid_result.best_params_))\n",
        "means = grid_result.cv_results_['mean_test_score']\n",
        "stds = grid_result.cv_results_['std_test_score']\n",
        "params = grid_result.cv_results_['params']\n",
        "for mean, stdev, param in zip(means, stds, params):\n",
        "    print(\"%f (%f) with: %r\" % (mean, stdev, param))"
      ],
      "execution_count": 54,
      "outputs": [
        {
          "output_type": "stream",
          "text": [
            "/usr/local/lib/python3.6/dist-packages/joblib/externals/loky/process_executor.py:691: UserWarning: A worker stopped while some jobs were given to the executor. This can be caused by a too short worker timeout or by a memory leak.\n",
            "  \"timeout or by a memory leak.\", UserWarning\n"
          ],
          "name": "stderr"
        },
        {
          "output_type": "stream",
          "text": [
            "Best: 0.585506 using {'activation': 'relu', 'epochs': 30, 'optimizer': 'SGD'}\n",
            "0.554778 (0.009148) with: {'activation': 'softmax', 'epochs': 5, 'optimizer': 'Adagrad'}\n",
            "0.558889 (0.008787) with: {'activation': 'softmax', 'epochs': 5, 'optimizer': 'Adam'}\n",
            "0.565429 (0.009664) with: {'activation': 'softmax', 'epochs': 5, 'optimizer': 'Adadelta'}\n",
            "0.534608 (0.013080) with: {'activation': 'softmax', 'epochs': 5, 'optimizer': 'SGD'}\n",
            "0.573876 (0.004804) with: {'activation': 'softmax', 'epochs': 15, 'optimizer': 'Adagrad'}\n",
            "0.576261 (0.008955) with: {'activation': 'softmax', 'epochs': 15, 'optimizer': 'Adam'}\n",
            "0.580835 (0.001560) with: {'activation': 'softmax', 'epochs': 15, 'optimizer': 'Adadelta'}\n",
            "0.572248 (0.011913) with: {'activation': 'softmax', 'epochs': 15, 'optimizer': 'SGD'}\n",
            "0.579216 (0.004598) with: {'activation': 'softmax', 'epochs': 25, 'optimizer': 'Adagrad'}\n",
            "0.582084 (0.008194) with: {'activation': 'softmax', 'epochs': 25, 'optimizer': 'Adam'}\n",
            "0.584813 (0.006942) with: {'activation': 'softmax', 'epochs': 25, 'optimizer': 'Adadelta'}\n",
            "0.580789 (0.008904) with: {'activation': 'softmax', 'epochs': 25, 'optimizer': 'SGD'}\n",
            "0.577863 (0.007971) with: {'activation': 'softmax', 'epochs': 30, 'optimizer': 'Adagrad'}\n",
            "0.583172 (0.009820) with: {'activation': 'softmax', 'epochs': 30, 'optimizer': 'Adam'}\n",
            "0.579909 (0.005045) with: {'activation': 'softmax', 'epochs': 30, 'optimizer': 'Adadelta'}\n",
            "0.581135 (0.006638) with: {'activation': 'softmax', 'epochs': 30, 'optimizer': 'SGD'}\n",
            "0.576273 (0.005594) with: {'activation': 'softmax', 'epochs': 60, 'optimizer': 'Adagrad'}\n",
            "0.581783 (0.005887) with: {'activation': 'softmax', 'epochs': 60, 'optimizer': 'Adam'}\n",
            "0.584082 (0.006178) with: {'activation': 'softmax', 'epochs': 60, 'optimizer': 'Adadelta'}\n",
            "0.584784 (0.004996) with: {'activation': 'softmax', 'epochs': 60, 'optimizer': 'SGD'}\n",
            "0.557338 (0.007315) with: {'activation': 'softplus', 'epochs': 5, 'optimizer': 'Adagrad'}\n",
            "0.559483 (0.011915) with: {'activation': 'softplus', 'epochs': 5, 'optimizer': 'Adam'}\n",
            "0.567079 (0.001622) with: {'activation': 'softplus', 'epochs': 5, 'optimizer': 'Adadelta'}\n",
            "0.545712 (0.006404) with: {'activation': 'softplus', 'epochs': 5, 'optimizer': 'SGD'}\n",
            "0.568863 (0.010343) with: {'activation': 'softplus', 'epochs': 15, 'optimizer': 'Adagrad'}\n",
            "0.583146 (0.007645) with: {'activation': 'softplus', 'epochs': 15, 'optimizer': 'Adam'}\n",
            "0.581582 (0.008476) with: {'activation': 'softplus', 'epochs': 15, 'optimizer': 'Adadelta'}\n",
            "0.567080 (0.005856) with: {'activation': 'softplus', 'epochs': 15, 'optimizer': 'SGD'}\n",
            "0.576141 (0.009378) with: {'activation': 'softplus', 'epochs': 25, 'optimizer': 'Adagrad'}\n",
            "0.585039 (0.008653) with: {'activation': 'softplus', 'epochs': 25, 'optimizer': 'Adam'}\n",
            "0.583929 (0.004279) with: {'activation': 'softplus', 'epochs': 25, 'optimizer': 'Adadelta'}\n",
            "0.578696 (0.007602) with: {'activation': 'softplus', 'epochs': 25, 'optimizer': 'SGD'}\n",
            "0.577329 (0.006072) with: {'activation': 'softplus', 'epochs': 30, 'optimizer': 'Adagrad'}\n",
            "0.579851 (0.005353) with: {'activation': 'softplus', 'epochs': 30, 'optimizer': 'Adam'}\n",
            "0.581385 (0.006121) with: {'activation': 'softplus', 'epochs': 30, 'optimizer': 'Adadelta'}\n",
            "0.579912 (0.005680) with: {'activation': 'softplus', 'epochs': 30, 'optimizer': 'SGD'}\n",
            "0.578244 (0.002135) with: {'activation': 'softplus', 'epochs': 60, 'optimizer': 'Adagrad'}\n",
            "0.581813 (0.008035) with: {'activation': 'softplus', 'epochs': 60, 'optimizer': 'Adam'}\n",
            "0.583607 (0.005105) with: {'activation': 'softplus', 'epochs': 60, 'optimizer': 'Adadelta'}\n",
            "0.582808 (0.005544) with: {'activation': 'softplus', 'epochs': 60, 'optimizer': 'SGD'}\n",
            "0.555012 (0.012932) with: {'activation': 'softsign', 'epochs': 5, 'optimizer': 'Adagrad'}\n",
            "0.560268 (0.004574) with: {'activation': 'softsign', 'epochs': 5, 'optimizer': 'Adam'}\n",
            "0.560665 (0.004232) with: {'activation': 'softsign', 'epochs': 5, 'optimizer': 'Adadelta'}\n",
            "0.519477 (0.008247) with: {'activation': 'softsign', 'epochs': 5, 'optimizer': 'SGD'}\n",
            "0.568291 (0.003760) with: {'activation': 'softsign', 'epochs': 15, 'optimizer': 'Adagrad'}\n",
            "0.580428 (0.001767) with: {'activation': 'softsign', 'epochs': 15, 'optimizer': 'Adam'}\n",
            "0.575443 (0.009221) with: {'activation': 'softsign', 'epochs': 15, 'optimizer': 'Adadelta'}\n",
            "0.572579 (0.006746) with: {'activation': 'softsign', 'epochs': 15, 'optimizer': 'SGD'}\n",
            "0.573590 (0.009819) with: {'activation': 'softsign', 'epochs': 25, 'optimizer': 'Adagrad'}\n",
            "0.581784 (0.007401) with: {'activation': 'softsign', 'epochs': 25, 'optimizer': 'Adam'}\n",
            "0.580235 (0.004092) with: {'activation': 'softsign', 'epochs': 25, 'optimizer': 'Adadelta'}\n",
            "0.582602 (0.003562) with: {'activation': 'softsign', 'epochs': 25, 'optimizer': 'SGD'}\n",
            "0.574632 (0.005864) with: {'activation': 'softsign', 'epochs': 30, 'optimizer': 'Adagrad'}\n",
            "0.582461 (0.006893) with: {'activation': 'softsign', 'epochs': 30, 'optimizer': 'Adam'}\n",
            "0.584796 (0.005455) with: {'activation': 'softsign', 'epochs': 30, 'optimizer': 'Adadelta'}\n",
            "0.573226 (0.003104) with: {'activation': 'softsign', 'epochs': 30, 'optimizer': 'SGD'}\n",
            "0.582258 (0.005281) with: {'activation': 'softsign', 'epochs': 60, 'optimizer': 'Adagrad'}\n",
            "0.581268 (0.004193) with: {'activation': 'softsign', 'epochs': 60, 'optimizer': 'Adam'}\n",
            "0.581808 (0.010046) with: {'activation': 'softsign', 'epochs': 60, 'optimizer': 'Adadelta'}\n",
            "0.582617 (0.006046) with: {'activation': 'softsign', 'epochs': 60, 'optimizer': 'SGD'}\n",
            "0.550929 (0.012988) with: {'activation': 'relu', 'epochs': 5, 'optimizer': 'Adagrad'}\n",
            "0.562774 (0.008638) with: {'activation': 'relu', 'epochs': 5, 'optimizer': 'Adam'}\n",
            "0.561820 (0.002657) with: {'activation': 'relu', 'epochs': 5, 'optimizer': 'Adadelta'}\n",
            "0.471376 (0.067424) with: {'activation': 'relu', 'epochs': 5, 'optimizer': 'SGD'}\n",
            "0.573121 (0.006877) with: {'activation': 'relu', 'epochs': 15, 'optimizer': 'Adagrad'}\n",
            "0.580594 (0.006164) with: {'activation': 'relu', 'epochs': 15, 'optimizer': 'Adam'}\n",
            "0.581059 (0.003888) with: {'activation': 'relu', 'epochs': 15, 'optimizer': 'Adadelta'}\n",
            "0.577279 (0.009052) with: {'activation': 'relu', 'epochs': 15, 'optimizer': 'SGD'}\n",
            "0.577896 (0.006752) with: {'activation': 'relu', 'epochs': 25, 'optimizer': 'Adagrad'}\n",
            "0.580691 (0.007932) with: {'activation': 'relu', 'epochs': 25, 'optimizer': 'Adam'}\n",
            "0.585302 (0.006374) with: {'activation': 'relu', 'epochs': 25, 'optimizer': 'Adadelta'}\n",
            "0.576838 (0.005998) with: {'activation': 'relu', 'epochs': 25, 'optimizer': 'SGD'}\n",
            "0.576627 (0.010539) with: {'activation': 'relu', 'epochs': 30, 'optimizer': 'Adagrad'}\n",
            "0.581377 (0.008266) with: {'activation': 'relu', 'epochs': 30, 'optimizer': 'Adam'}\n",
            "0.577303 (0.003229) with: {'activation': 'relu', 'epochs': 30, 'optimizer': 'Adadelta'}\n",
            "0.585506 (0.004242) with: {'activation': 'relu', 'epochs': 30, 'optimizer': 'SGD'}\n",
            "0.580533 (0.005371) with: {'activation': 'relu', 'epochs': 60, 'optimizer': 'Adagrad'}\n",
            "0.581312 (0.009002) with: {'activation': 'relu', 'epochs': 60, 'optimizer': 'Adam'}\n",
            "0.579956 (0.005089) with: {'activation': 'relu', 'epochs': 60, 'optimizer': 'Adadelta'}\n",
            "0.584527 (0.004308) with: {'activation': 'relu', 'epochs': 60, 'optimizer': 'SGD'}\n",
            "0.548481 (0.007337) with: {'activation': 'tanh', 'epochs': 5, 'optimizer': 'Adagrad'}\n",
            "0.558794 (0.002064) with: {'activation': 'tanh', 'epochs': 5, 'optimizer': 'Adam'}\n",
            "0.559162 (0.003129) with: {'activation': 'tanh', 'epochs': 5, 'optimizer': 'Adadelta'}\n",
            "0.529014 (0.026806) with: {'activation': 'tanh', 'epochs': 5, 'optimizer': 'SGD'}\n",
            "0.572258 (0.009985) with: {'activation': 'tanh', 'epochs': 15, 'optimizer': 'Adagrad'}\n",
            "0.576488 (0.007080) with: {'activation': 'tanh', 'epochs': 15, 'optimizer': 'Adam'}\n",
            "0.576758 (0.009930) with: {'activation': 'tanh', 'epochs': 15, 'optimizer': 'Adadelta'}\n",
            "0.574231 (0.014489) with: {'activation': 'tanh', 'epochs': 15, 'optimizer': 'SGD'}\n",
            "0.578735 (0.005046) with: {'activation': 'tanh', 'epochs': 25, 'optimizer': 'Adagrad'}\n",
            "0.583785 (0.003747) with: {'activation': 'tanh', 'epochs': 25, 'optimizer': 'Adam'}\n",
            "0.583328 (0.004066) with: {'activation': 'tanh', 'epochs': 25, 'optimizer': 'Adadelta'}\n",
            "0.578609 (0.009356) with: {'activation': 'tanh', 'epochs': 25, 'optimizer': 'SGD'}\n",
            "0.574624 (0.003153) with: {'activation': 'tanh', 'epochs': 30, 'optimizer': 'Adagrad'}\n",
            "0.584035 (0.005038) with: {'activation': 'tanh', 'epochs': 30, 'optimizer': 'Adam'}\n",
            "0.582547 (0.006100) with: {'activation': 'tanh', 'epochs': 30, 'optimizer': 'Adadelta'}\n",
            "0.582039 (0.003372) with: {'activation': 'tanh', 'epochs': 30, 'optimizer': 'SGD'}\n",
            "0.577001 (0.001750) with: {'activation': 'tanh', 'epochs': 60, 'optimizer': 'Adagrad'}\n",
            "0.583638 (0.007716) with: {'activation': 'tanh', 'epochs': 60, 'optimizer': 'Adam'}\n",
            "0.585107 (0.007672) with: {'activation': 'tanh', 'epochs': 60, 'optimizer': 'Adadelta'}\n",
            "0.580908 (0.008105) with: {'activation': 'tanh', 'epochs': 60, 'optimizer': 'SGD'}\n",
            "0.547879 (0.004861) with: {'activation': 'linear', 'epochs': 5, 'optimizer': 'Adagrad'}\n",
            "0.555939 (0.011819) with: {'activation': 'linear', 'epochs': 5, 'optimizer': 'Adam'}\n",
            "0.569468 (0.005446) with: {'activation': 'linear', 'epochs': 5, 'optimizer': 'Adadelta'}\n",
            "0.528563 (0.007911) with: {'activation': 'linear', 'epochs': 5, 'optimizer': 'SGD'}\n",
            "0.571182 (0.007801) with: {'activation': 'linear', 'epochs': 15, 'optimizer': 'Adagrad'}\n",
            "0.577762 (0.005610) with: {'activation': 'linear', 'epochs': 15, 'optimizer': 'Adam'}\n",
            "0.579409 (0.005757) with: {'activation': 'linear', 'epochs': 15, 'optimizer': 'Adadelta'}\n",
            "0.573560 (0.005262) with: {'activation': 'linear', 'epochs': 15, 'optimizer': 'SGD'}\n",
            "0.573090 (0.011069) with: {'activation': 'linear', 'epochs': 25, 'optimizer': 'Adagrad'}\n",
            "0.583284 (0.003753) with: {'activation': 'linear', 'epochs': 25, 'optimizer': 'Adam'}\n",
            "0.584240 (0.010756) with: {'activation': 'linear', 'epochs': 25, 'optimizer': 'Adadelta'}\n",
            "0.574422 (0.002665) with: {'activation': 'linear', 'epochs': 25, 'optimizer': 'SGD'}\n",
            "0.574736 (0.004050) with: {'activation': 'linear', 'epochs': 30, 'optimizer': 'Adagrad'}\n",
            "0.583131 (0.006632) with: {'activation': 'linear', 'epochs': 30, 'optimizer': 'Adam'}\n",
            "0.583016 (0.006942) with: {'activation': 'linear', 'epochs': 30, 'optimizer': 'Adadelta'}\n",
            "0.579346 (0.010245) with: {'activation': 'linear', 'epochs': 30, 'optimizer': 'SGD'}\n",
            "0.580122 (0.005759) with: {'activation': 'linear', 'epochs': 60, 'optimizer': 'Adagrad'}\n",
            "0.580345 (0.006454) with: {'activation': 'linear', 'epochs': 60, 'optimizer': 'Adam'}\n",
            "0.581704 (0.007460) with: {'activation': 'linear', 'epochs': 60, 'optimizer': 'Adadelta'}\n",
            "0.582989 (0.004107) with: {'activation': 'linear', 'epochs': 60, 'optimizer': 'SGD'}\n"
          ],
          "name": "stdout"
        }
      ]
    },
    {
      "cell_type": "code",
      "metadata": {
        "scrolled": true,
        "id": "UKnzCMU6APxM",
        "colab_type": "code",
        "colab": {
          "base_uri": "https://localhost:8080/",
          "height": 323
        },
        "outputId": "a3d5c96b-cd6f-440f-b918-7b3da1542b9a"
      },
      "source": [
        "# create model\n",
        "model = Sequential()\n",
        "model.add(Dense(8, input_dim=X_train.shape[1], activation='softplus'))\n",
        "model.add(Dense(3, activation='softplus'))\n",
        "model.add(Dense(4, activation='softplus'))\n",
        "model.add(Dense(1,  activation='linear'))\n",
        "# Compile model\n",
        "model.compile(loss='mean_squared_error', optimizer='Adadelta',metrics=['mse'])\n",
        "\n",
        "#summary of the model\n",
        "model.summary()\n",
        "\n",
        "#fit the model\n",
        "History = model.fit(X_train,y_train, validation_data=(X_test,y_test), epochs=25, verbose=0)\n",
        "# evaluate model\n",
        "train_mse = model.evaluate(X_train,y_train, verbose=0) \n",
        "test_mse = model.evaluate(X_test,y_test, verbose=0)\n",
        "\n",
        "print('Train:',train_mse) \n",
        "print('Test:',test_mse)\n"
      ],
      "execution_count": 64,
      "outputs": [
        {
          "output_type": "stream",
          "text": [
            "Model: \"sequential_3\"\n",
            "_________________________________________________________________\n",
            "Layer (type)                 Output Shape              Param #   \n",
            "=================================================================\n",
            "dense_9 (Dense)              (None, 8)                 192       \n",
            "_________________________________________________________________\n",
            "dense_10 (Dense)             (None, 3)                 27        \n",
            "_________________________________________________________________\n",
            "dense_11 (Dense)             (None, 4)                 16        \n",
            "_________________________________________________________________\n",
            "dense_12 (Dense)             (None, 1)                 5         \n",
            "=================================================================\n",
            "Total params: 240\n",
            "Trainable params: 240\n",
            "Non-trainable params: 0\n",
            "_________________________________________________________________\n",
            "Train: [0.3928321412634298, 0.3928320109844208]\n",
            "Test: [0.3981300427384986, 0.39812999963760376]\n"
          ],
          "name": "stdout"
        }
      ]
    },
    {
      "cell_type": "code",
      "metadata": {
        "id": "59oF6Tf7APxV",
        "colab_type": "code",
        "colab": {
          "base_uri": "https://localhost:8080/",
          "height": 359
        },
        "outputId": "8a3a3fbb-e755-4404-910e-4b7b71e57aeb"
      },
      "source": [
        "hist = pd.DataFrame(History.history)\n",
        "hist['epoch'] = History.epoch\n",
        "hist.head(10)"
      ],
      "execution_count": 65,
      "outputs": [
        {
          "output_type": "execute_result",
          "data": {
            "text/html": [
              "<div>\n",
              "<style scoped>\n",
              "    .dataframe tbody tr th:only-of-type {\n",
              "        vertical-align: middle;\n",
              "    }\n",
              "\n",
              "    .dataframe tbody tr th {\n",
              "        vertical-align: top;\n",
              "    }\n",
              "\n",
              "    .dataframe thead th {\n",
              "        text-align: right;\n",
              "    }\n",
              "</style>\n",
              "<table border=\"1\" class=\"dataframe\">\n",
              "  <thead>\n",
              "    <tr style=\"text-align: right;\">\n",
              "      <th></th>\n",
              "      <th>val_loss</th>\n",
              "      <th>val_mse</th>\n",
              "      <th>loss</th>\n",
              "      <th>mse</th>\n",
              "      <th>epoch</th>\n",
              "    </tr>\n",
              "  </thead>\n",
              "  <tbody>\n",
              "    <tr>\n",
              "      <th>0</th>\n",
              "      <td>0.823428</td>\n",
              "      <td>0.823428</td>\n",
              "      <td>1.028097</td>\n",
              "      <td>1.028096</td>\n",
              "      <td>0</td>\n",
              "    </tr>\n",
              "    <tr>\n",
              "      <th>1</th>\n",
              "      <td>0.472025</td>\n",
              "      <td>0.472025</td>\n",
              "      <td>0.617447</td>\n",
              "      <td>0.617447</td>\n",
              "      <td>1</td>\n",
              "    </tr>\n",
              "    <tr>\n",
              "      <th>2</th>\n",
              "      <td>0.428545</td>\n",
              "      <td>0.428545</td>\n",
              "      <td>0.437530</td>\n",
              "      <td>0.437530</td>\n",
              "      <td>2</td>\n",
              "    </tr>\n",
              "    <tr>\n",
              "      <th>3</th>\n",
              "      <td>0.417731</td>\n",
              "      <td>0.417731</td>\n",
              "      <td>0.419673</td>\n",
              "      <td>0.419673</td>\n",
              "      <td>3</td>\n",
              "    </tr>\n",
              "    <tr>\n",
              "      <th>4</th>\n",
              "      <td>0.425055</td>\n",
              "      <td>0.425055</td>\n",
              "      <td>0.411418</td>\n",
              "      <td>0.411418</td>\n",
              "      <td>4</td>\n",
              "    </tr>\n",
              "    <tr>\n",
              "      <th>5</th>\n",
              "      <td>0.408454</td>\n",
              "      <td>0.408454</td>\n",
              "      <td>0.408639</td>\n",
              "      <td>0.408640</td>\n",
              "      <td>5</td>\n",
              "    </tr>\n",
              "    <tr>\n",
              "      <th>6</th>\n",
              "      <td>0.407583</td>\n",
              "      <td>0.407583</td>\n",
              "      <td>0.406162</td>\n",
              "      <td>0.406162</td>\n",
              "      <td>6</td>\n",
              "    </tr>\n",
              "    <tr>\n",
              "      <th>7</th>\n",
              "      <td>0.404602</td>\n",
              "      <td>0.404602</td>\n",
              "      <td>0.404330</td>\n",
              "      <td>0.404330</td>\n",
              "      <td>7</td>\n",
              "    </tr>\n",
              "    <tr>\n",
              "      <th>8</th>\n",
              "      <td>0.404063</td>\n",
              "      <td>0.404063</td>\n",
              "      <td>0.403060</td>\n",
              "      <td>0.403060</td>\n",
              "      <td>8</td>\n",
              "    </tr>\n",
              "    <tr>\n",
              "      <th>9</th>\n",
              "      <td>0.401949</td>\n",
              "      <td>0.401949</td>\n",
              "      <td>0.401758</td>\n",
              "      <td>0.401758</td>\n",
              "      <td>9</td>\n",
              "    </tr>\n",
              "  </tbody>\n",
              "</table>\n",
              "</div>"
            ],
            "text/plain": [
              "   val_loss   val_mse      loss       mse  epoch\n",
              "0  0.823428  0.823428  1.028097  1.028096      0\n",
              "1  0.472025  0.472025  0.617447  0.617447      1\n",
              "2  0.428545  0.428545  0.437530  0.437530      2\n",
              "3  0.417731  0.417731  0.419673  0.419673      3\n",
              "4  0.425055  0.425055  0.411418  0.411418      4\n",
              "5  0.408454  0.408454  0.408639  0.408640      5\n",
              "6  0.407583  0.407583  0.406162  0.406162      6\n",
              "7  0.404602  0.404602  0.404330  0.404330      7\n",
              "8  0.404063  0.404063  0.403060  0.403060      8\n",
              "9  0.401949  0.401949  0.401758  0.401758      9"
            ]
          },
          "metadata": {
            "tags": []
          },
          "execution_count": 65
        }
      ]
    },
    {
      "cell_type": "code",
      "metadata": {
        "id": "KUk2eiKUAPxn",
        "colab_type": "code",
        "colab": {
          "base_uri": "https://localhost:8080/",
          "height": 295
        },
        "outputId": "aeb46cd5-3662-4bce-9369-9cdb32fc57df"
      },
      "source": [
        "# summarize history for loss\n",
        "plt.plot(History.history['loss'])\n",
        "plt.plot(History.history['val_loss'])\n",
        "plt.title('model loss')\n",
        "plt.ylabel('loss')\n",
        "plt.xlabel('epoch')\n",
        "plt.legend(['train', 'validation'], loc='upper left')\n",
        "plt.show()"
      ],
      "execution_count": 66,
      "outputs": [
        {
          "output_type": "display_data",
          "data": {
            "image/png": "[encoded data removed]",
            "text/plain": [
              "<Figure size 432x288 with 1 Axes>"
            ]
          },
          "metadata": {
            "tags": [],
            "needs_background": "light"
          }
        }
      ]
    },
    {
      "cell_type": "code",
      "metadata": {
        "id": "DcvsJ5vxAPyH",
        "colab_type": "code",
        "colab": {
          "base_uri": "https://localhost:8080/",
          "height": 68
        },
        "outputId": "508b25fb-9db5-4858-c9bd-228d23cf87ea"
      },
      "source": [
        "Predicted=model.predict(X_test).flatten()\n",
        "#calculating the R2 score on validation set\n",
        "print('MSE of predictions:', mean_squared_error(Predicted,y_test))\n",
        "print('RMSE of predictions :',np.sqrt(mean_squared_error(Predicted,y_test)))\n",
        "print('R2 is : ',r2_score(y_test, Predicted))"
      ],
      "execution_count": 67,
      "outputs": [
        {
          "output_type": "stream",
          "text": [
            "MSE of predictions: 0.3981300413102507\n",
            "RMSE of predictions : 0.6309754680732451\n",
            "R2 is :  0.616206683941869\n"
          ],
          "name": "stdout"
        }
      ]
    },
    {
      "cell_type": "code",
      "metadata": {
        "id": "ExAjcND4APyO",
        "colab_type": "code",
        "colab": {}
      },
      "source": [
        "#We can conclude that we use the last model that can give us a r2 of 0.6162."
      ],
      "execution_count": 68,
      "outputs": []
    },
    {
      "cell_type": "code",
      "metadata": {
        "id": "N7XogJjdAPyW",
        "colab_type": "code",
        "colab": {
          "base_uri": "https://localhost:8080/",
          "height": 297
        },
        "outputId": "e64b0d8e-46ef-47da-c49a-b476d04e16c2"
      },
      "source": [
        "import seaborn as sns\n",
        "sns.regplot(x=y_test, y=Predicted)"
      ],
      "execution_count": 69,
      "outputs": [
        {
          "output_type": "execute_result",
          "data": {
            "text/plain": [
              "<matplotlib.axes._subplots.AxesSubplot at 0x7f377f6a3390>"
            ]
          },
          "metadata": {
            "tags": []
          },
          "execution_count": 69
        },
        {
          "output_type": "display_data",
          "data": {
            "image/png": "[encoded data removed]",
            "text/plain": [
              "<Figure size 432x288 with 1 Axes>"
            ]
          },
          "metadata": {
            "tags": [],
            "needs_background": "light"
          }
        }
      ]
    },
    {
      "cell_type": "code",
      "metadata": {
        "id": "LegB-KDjAPyg",
        "colab_type": "code",
        "colab": {}
      },
      "source": [
        "#Final predictions\n",
        "\n",
        "final_pred = model.predict(test)\n",
        "my_submission = pd.DataFrame(final_pred)\n",
        "my_submission.to_csv('submission_sales.csv', index=False)"
      ],
      "execution_count": 70,
      "outputs": []
    },
    {
      "cell_type": "code",
      "metadata": {
        "id": "AzvW2v5FAPyo",
        "colab_type": "code",
        "colab": {}
      },
      "source": [
        "my_submission.to_csv(\"test1.csv\")"
      ],
      "execution_count": 71,
      "outputs": []
    },
    {
      "cell_type": "code",
      "metadata": {
        "id": "0en-msnGAPy1",
        "colab_type": "code",
        "colab": {
          "base_uri": "https://localhost:8080/",
          "height": 34
        },
        "outputId": "5bdbec90-ef08-4ab7-f00f-cdd8ae46dbe6"
      },
      "source": [
        "from IPython.display import HTML\n",
        "import base64\n",
        "def create_download_link( my_submission, title = \"Download CSV file\", filename = \"data.csv\"):  \n",
        "    csv = my_submission.to_csv()\n",
        "    b64 = base64.b64encode(csv.encode())\n",
        "    payload = b64.decode()\n",
        "    html = '<a download=\"{filename}\" href=\"data:text/csv;base64,{payload}\" target=\"_blank\">{title}</a>'\n",
        "    html = html.format(payload=payload,title=title,filename=filename)\n",
        "    return HTML(html)\n",
        "\n",
        "create_download_link(my_submission)"
      ],
      "execution_count": 72,
      "outputs": [
        {
          "output_type": "execute_result",
          "data": {
            "text/html": [
              "<a download=\"data.csv\" href=\"data:text/csv;base64,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\" target=\"_blank\">Download CSV file</a>"
            ],
            "text/plain": [
              "<IPython.core.display.HTML object>"
            ]
          },
          "metadata": {
            "tags": []
          },
          "execution_count": 72
        }
      ]
    },
    {
      "cell_type": "code",
      "metadata": {
        "id": "J1Ql-yC0APy7",
        "colab_type": "code",
        "colab": {}
      },
      "source": [
        ""
      ],
      "execution_count": 72,
      "outputs": []
    }
  ]
}